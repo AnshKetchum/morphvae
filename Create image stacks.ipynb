{
 "cells": [
  {
   "cell_type": "code",
   "execution_count": 5,
   "metadata": {},
   "outputs": [],
   "source": [
    "from copy import copy\n",
    "import numpy as np\n",
    "import os \n",
    "from morphopy.computation import feature_presentation as fp\n",
    "from scipy.ndimage import gaussian_filter\n",
    "from skimage.io._plugins import tifffile_plugin as fi\n",
    "\n",
    "from utils.rw_utils import load_neurons\n",
    "import pickle\n"
   ]
  },
  {
   "cell_type": "code",
   "execution_count": 6,
   "metadata": {},
   "outputs": [],
   "source": [
    "def sample_spherical(npoints, r=1,  ndim=3):\n",
    "    vec = np.random.randn(ndim, npoints)\n",
    "    vec /= np.linalg.norm(vec, axis=0)\n",
    "    vec *= r\n",
    "    return vec"
   ]
  },
  {
   "cell_type": "code",
   "execution_count": 7,
   "metadata": {},
   "outputs": [],
   "source": [
    "def sample_image_stacks(indices, save_path):\n",
    "    \n",
    "    for ix in indices:\n",
    "    \n",
    "        filename = files[ix]\n",
    "\n",
    "        print('Loading data %s ...'%filename)\n",
    "        data = neurons[ix].resample_nodes(d=0.01)*100# reconvert to microns\n",
    "        radius = max((int(neurons[ix].nodes(data=True)[0][1]['radius']/2),1))\n",
    "        \n",
    "        data = np.repeat(data, repeats=radius, axis=0)\n",
    "        for r in range(1, radius+1):\n",
    "\n",
    "            soma_points = sample_spherical(100, r=radius, ndim=3).T\n",
    "            data = np.vstack((data, soma_points))\n",
    "\n",
    "        n_bins=128\n",
    "\n",
    "        h, edges = np.histogramdd(data, bins=n_bins, density=False)\n",
    "\n",
    "        min_ = np.min(data, axis=0)\n",
    "        max_ = np.max(data, axis=0)\n",
    "\n",
    "        resolution = (max_-min_)/n_bins\n",
    "\n",
    "        # smooth with a Gaussian filter\n",
    "        smoothed_h = gaussian_filter(h, 2)\n",
    "\n",
    "        # rescale image \n",
    "        h_ = (smoothed_h/ np.max(smoothed_h))*255\n",
    "        image = (h_.T).astype('uint8')\n",
    "\n",
    "        with open(save_path+ '/image_stacks/%s.tif'%filename[:-4], 'wb') as f:\n",
    "            fi.imsave(f, image, metadata={'voxels': str(resolution)})"
   ]
  },
  {
   "cell_type": "markdown",
   "metadata": {},
   "source": [
    "## M1 EXC"
   ]
  },
  {
   "cell_type": "code",
   "execution_count": 8,
   "metadata": {},
   "outputs": [],
   "source": [
    "\n",
    "#load in data\n",
    "neurons = np.array(load_neurons('./data/M1_exc_data/neurons/', sort=False))\n",
    "files = list(os.walk('./data/M1_exc_data/neurons/'))[0][2]"
   ]
  },
  {
   "cell_type": "code",
   "execution_count": 9,
   "metadata": {},
   "outputs": [
    {
     "ename": "FileNotFoundError",
     "evalue": "[Errno 2] No such file or directory: './data/M1_exc_data/iterator/m_labels/test_iterator.pkl'",
     "output_type": "error",
     "traceback": [
      "\u001b[0;31m---------------------------------------------------------------------------\u001b[0m",
      "\u001b[0;31mFileNotFoundError\u001b[0m                         Traceback (most recent call last)",
      "\u001b[0;32m<ipython-input-9-57ad8cc290aa>\u001b[0m in \u001b[0;36m<module>\u001b[0;34m\u001b[0m\n\u001b[0;32m----> 1\u001b[0;31m \u001b[0;32mwith\u001b[0m \u001b[0mopen\u001b[0m\u001b[0;34m(\u001b[0m\u001b[0;34m'./data/M1_exc_data/iterator/m_labels/test_iterator.pkl'\u001b[0m\u001b[0;34m,\u001b[0m \u001b[0;34m'rb'\u001b[0m\u001b[0;34m)\u001b[0m \u001b[0;32mas\u001b[0m \u001b[0mf\u001b[0m\u001b[0;34m:\u001b[0m\u001b[0;34m\u001b[0m\u001b[0;34m\u001b[0m\u001b[0m\n\u001b[0m\u001b[1;32m      2\u001b[0m     \u001b[0mtest_iterator\u001b[0m \u001b[0;34m=\u001b[0m \u001b[0mpickle\u001b[0m\u001b[0;34m.\u001b[0m\u001b[0mload\u001b[0m\u001b[0;34m(\u001b[0m\u001b[0mf\u001b[0m\u001b[0;34m)\u001b[0m\u001b[0;34m\u001b[0m\u001b[0;34m\u001b[0m\u001b[0m\n",
      "\u001b[0;31mFileNotFoundError\u001b[0m: [Errno 2] No such file or directory: './data/M1_exc_data/iterator/m_labels/test_iterator.pkl'"
     ]
    }
   ],
   "source": [
    "with open('./data/M1_exc_data/data/M1_exc_data/iterator/m_labels/test_iterator.pkl', 'rb') as f:\n",
    "    test_iterator = pickle.load(f)  "
   ]
  },
  {
   "cell_type": "code",
   "execution_count": 7,
   "metadata": {},
   "outputs": [
    {
     "name": "stdout",
     "output_type": "stream",
     "text": [
      "Loading data 20180717_sample_7.swc ...\n",
      "Loading data 20171207_sample_1.swc ...\n",
      "Loading data 20180315_sample_5.swc ...\n",
      "Loading data 20190122_sample_6.swc ...\n",
      "Loading data 20180508_sample_3.swc ...\n",
      "Loading data 20190912_sample_6.swc ...\n",
      "Loading data 20190412_sample_3.swc ...\n",
      "Loading data 20190226_sample_3.swc ...\n",
      "Loading data 20171204_sample_6.swc ...\n",
      "Loading data 20180426_sample_3.swc ...\n",
      "Loading data 20180102_sample_1.swc ...\n",
      "Loading data 20190130_sample_8.swc ...\n",
      "Loading data 20180529_sample_3.swc ...\n",
      "Loading data 20191010_sample_7.swc ...\n",
      "Loading data 20180225_sample_4.swc ...\n",
      "Loading data 20190204_sample_2.swc ...\n",
      "Loading data 20190325_sample_3.swc ...\n",
      "Loading data 20180313_sample_7.swc ...\n",
      "Loading data 20180509_sample_5.swc ...\n",
      "Loading data 20181010_sample_5.swc ...\n",
      "Loading data 20180413_sample_4.swc ...\n",
      "Loading data 20190801_sample_1.swc ...\n",
      "Loading data 20191108_sample_5.swc ...\n",
      "Loading data 20190606_sample_6.swc ...\n",
      "Loading data 20180228_sample_3.swc ...\n",
      "Loading data 20190627_sample_1.swc ...\n",
      "Loading data 20180820_sample_6.swc ...\n",
      "Loading data 20180118_sample_2.swc ...\n",
      "Loading data 20190506_sample_4.swc ...\n",
      "Loading data 20190222_sample_4.swc ...\n",
      "Loading data 20190417_sample_9.swc ...\n",
      "Loading data 20190402_sample_3.swc ...\n",
      "Loading data 20190712_sample_1.swc ...\n",
      "Loading data 20190507_sample_3.swc ...\n",
      "Loading data 20180725_sample_3.swc ...\n",
      "Loading data 20190927_sample_1.swc ...\n",
      "Loading data 20190410_sample_3.swc ...\n",
      "Loading data 20180118_sample_4.swc ...\n",
      "Loading data 20180410_sample_5.swc ...\n",
      "Loading data 20191010_sample_3.swc ...\n",
      "Loading data 20190912_sample_1.swc ...\n",
      "Loading data 20190919_sample_5.swc ...\n",
      "Loading data 20190425_sample_16.swc ...\n",
      "Loading data 20190821_sample_2.swc ...\n",
      "Loading data 20180104_sample_6.swc ...\n",
      "Loading data 20190719_sample_5.swc ...\n",
      "Loading data 20190411_sample_8.swc ...\n",
      "Loading data 20190719_sample_10.swc ...\n",
      "Loading data 20190823_sample_6.swc ...\n",
      "Loading data 20190424_sample_1.swc ...\n",
      "Loading data 20190320_sample_5.swc ...\n",
      "Loading data 20190830_sample_6.swc ...\n",
      "Loading data 20190424_sample_4.swc ...\n",
      "Loading data 20190926_sample_4.swc ...\n",
      "Loading data 20180405_sample_2.swc ...\n",
      "Loading data 20190328_sample_6.swc ...\n",
      "Loading data 20190321_sample_6.swc ...\n",
      "Loading data 20190924_sample_8.swc ...\n",
      "Loading data 20191114_sample_9.swc ...\n",
      "Loading data 20171204_sample_4.swc ...\n"
     ]
    }
   ],
   "source": [
    "sample_image_stacks(test_iterator.sampler.indices, \"./data/M1_exc_data/\")"
   ]
  },
  {
   "cell_type": "markdown",
   "metadata": {},
   "source": [
    "## M1 INH"
   ]
  },
  {
   "cell_type": "code",
   "execution_count": 8,
   "metadata": {},
   "outputs": [],
   "source": [
    "#load in data\n",
    "neurons = np.array(load_neurons('./data/M1_inh_data/neurons/axon/', sort=False))\n",
    "files = list(os.walk('./data/M1_inh_data/neurons/axon/'))[0][2]"
   ]
  },
  {
   "cell_type": "code",
   "execution_count": 15,
   "metadata": {},
   "outputs": [],
   "source": [
    "with open('./data/M1_inh_data/iterator/axon/test_iterator_32.pkl', 'rb') as f:\n",
    "    test_iterator = pickle.load(f)  "
   ]
  },
  {
   "cell_type": "code",
   "execution_count": 10,
   "metadata": {
    "scrolled": true
   },
   "outputs": [
    {
     "name": "stdout",
     "output_type": "stream",
     "text": [
      "Loading data 20180719_sample_1.swc ...\n",
      "Loading data 20190506_sample_5.swc ...\n",
      "Loading data 20190612_sample_2.swc ...\n",
      "Loading data 20180820_sample_5.swc ...\n",
      "Loading data 20190204_sample_7.swc ...\n",
      "Loading data 20190610_sample_3.swc ...\n",
      "Loading data 20190403_sample_7.swc ...\n",
      "Loading data 20190211_sample_8.swc ...\n",
      "Loading data 20191114_sample_1.swc ...\n",
      "Loading data 20190611_sample_3.swc ...\n",
      "Loading data 20190416_sample_7.swc ...\n",
      "Loading data 20180411_sample_4.swc ...\n",
      "Loading data 20190904_sample_3.swc ...\n",
      "Loading data 20190910_sample_1.swc ...\n",
      "Loading data 20190508_sample_4.swc ...\n",
      "Loading data 20190906_sample_6.swc ...\n",
      "Loading data 20190820_sample_3.swc ...\n",
      "Loading data 20191114_sample_4.swc ...\n",
      "Loading data 20190927_sample_5.swc ...\n",
      "Loading data 20180926_sample_3.swc ...\n",
      "Loading data 20190219_sample_1.swc ...\n",
      "Loading data 20190730_sample_9.swc ...\n",
      "Loading data 20180822_sample_6.swc ...\n",
      "Loading data 20190204_sample_15.swc ...\n",
      "Loading data 20190211_sample_3.swc ...\n",
      "Loading data 20190205_sample_6.swc ...\n",
      "Loading data 20190128_sample_2.swc ...\n",
      "Loading data 20190619_sample_6.swc ...\n",
      "Loading data 20190528_sample_7.swc ...\n",
      "Loading data 20190429_sample_1.swc ...\n",
      "Loading data 20180921_sample_3.swc ...\n",
      "Loading data 20190528_sample_9.swc ...\n",
      "Loading data 20190708_sample_6.swc ...\n",
      "Loading data 20190325_sample_1.swc ...\n",
      "Loading data 20191003_sample_3.swc ...\n",
      "Loading data 20190218_sample_3.swc ...\n",
      "Loading data 20180904_sample_5.swc ...\n",
      "Loading data 20190501_sample_7.swc ...\n",
      "Loading data 20190613_sample_2.swc ...\n",
      "Loading data 20190613_sample_6.swc ...\n",
      "Loading data 20190611_sample_15.swc ...\n",
      "Loading data 20190227_sample_3.swc ...\n",
      "Loading data 20190924_sample_2.swc ...\n",
      "Loading data 20180621_sample_7.swc ...\n",
      "Loading data 20190626_sample_1.swc ...\n",
      "Loading data 20181011_sample_3.swc ...\n",
      "Loading data 20190605_sample_2.swc ...\n",
      "Loading data 20190603_sample_4.swc ...\n",
      "Loading data 20180904_sample_2.swc ...\n",
      "Loading data 20190704_sample_12.swc ...\n",
      "Loading data 20180830_sample_1.swc ...\n",
      "Loading data 20190411_sample_6.swc ...\n",
      "Loading data 20190613_sample_9.swc ...\n",
      "Loading data 20190610_sample_8.swc ...\n",
      "Loading data 20191107_sample_2.swc ...\n",
      "Loading data 20190620_sample_2.swc ...\n",
      "Loading data 20191105_sample_4.swc ...\n",
      "Loading data 20190211_sample_6.swc ...\n",
      "Loading data 20190606_sample_7.swc ...\n",
      "Loading data 20190729_sample_5.swc ...\n",
      "Loading data 20190122_sample_14.swc ...\n",
      "Loading data 20180822_sample_3.swc ...\n"
     ]
    }
   ],
   "source": [
    "sample_image_stacks(test_iterator.sampler.indices, \"./data/M1_inh_data/\")"
   ]
  },
  {
   "cell_type": "markdown",
   "metadata": {},
   "source": [
    "## Farrow data"
   ]
  },
  {
   "cell_type": "code",
   "execution_count": 4,
   "metadata": {},
   "outputs": [],
   "source": [
    "\n",
    "#load in data\n",
    "path = './data/Farrow_data/neurons/soma_centered/'\n",
    "neurons = np.array(load_neurons(path, sort=False))\n",
    "files = list(os.walk(path))[0][2]\n",
    "sort_index = np.array(files).argsort()\n",
    "neurons = np.array(neurons)[sort_index]\n",
    "\n",
    "files.sort()"
   ]
  },
  {
   "cell_type": "code",
   "execution_count": 5,
   "metadata": {},
   "outputs": [],
   "source": [
    "\n",
    "with open('./data/Farrow_data/iterator/soma_centered/test_iterator.pkl', 'rb') as f:\n",
    "    test_iterator = pickle.load(f)  "
   ]
  },
  {
   "cell_type": "code",
   "execution_count": 17,
   "metadata": {},
   "outputs": [
    {
     "name": "stdout",
     "output_type": "stream",
     "text": [
      "Loading data 0658_00707_1R_C06_02.swc ...\n",
      "Loading data 0003_00535_1L_C02_01.swc ...\n",
      "Loading data 0665_00707_1R_C11_04.swc ...\n",
      "Loading data 0007_00535_4L_C03_01.swc ...\n",
      "Loading data 0667_00868_3R_C07_01.swc ...\n",
      "Loading data 0011_00535_4R_C01_01.swc ...\n",
      "Loading data 0671_00868_3R_C07_05.swc ...\n",
      "Loading data 0673_00891_2L_C05_02.swc ...\n",
      "Loading data 0043_00549_2R_C04_01.swc ...\n",
      "Loading data 0686_00891_3L_C06_01.swc ...\n",
      "Loading data 0066_00549_4R_C02_01.swc ...\n",
      "Loading data 0076_00556_3L_C01_01.swc ...\n",
      "Loading data 0696_00899_3R_C02.swc ...\n",
      "Loading data 0087_00556_4L_C01_01.swc ...\n",
      "Loading data 0088_00567_1R_C01_01.swc ...\n",
      "Loading data 0090_00567_1R_C03_01.swc ...\n",
      "Loading data 0704_00681_2L_C01_33.swc ...\n",
      "Loading data 0100_00567_1R_C09_01.swc ...\n",
      "Loading data 0101_00567_1R_C10_01.swc ...\n",
      "Loading data 0707_00966_5R_C01_03.swc ...\n",
      "Loading data 0105_00561_3R_C06_01.swc ...\n",
      "Loading data 0106_00561_3R_C07_01.swc ...\n",
      "Loading data 0713_00966_3R_C03_04.swc ...\n",
      "Loading data 0118_00549_3R_C04_01.swc ...\n",
      "Loading data 0724_00966_8R_C02_04.swc ...\n",
      "Loading data 0120_00549_3R_C06_01.swc ...\n",
      "Loading data 0728_00966_9R_C04_01.swc ...\n",
      "Loading data 0131_00549_5R_C07_01.swc ...\n",
      "Loading data 0734_00925_7L_C12_04.swc ...\n",
      "Loading data 0136_00561_3R_C14_01.swc ...\n",
      "Loading data 0740_00855_2L_C02_02.swc ...\n",
      "Loading data 0144_00549_5R_C12_01.swc ...\n",
      "Loading data 0145_00549_5R_C13_01.swc ...\n",
      "Loading data 0158_00589_1R_C01_01.swc ...\n",
      "Loading data 0165_00587_4R_C06_01.swc ...\n",
      "Loading data 0167_00587_4R_C04_01.swc ...\n",
      "Loading data 0176_00589_1R_C02_01.swc ...\n",
      "Loading data 0183_00567_4R_C04_01.swc ...\n",
      "Loading data 0190_00589_1L_C08_01.swc ...\n",
      "Loading data 0200_00567_4L_C01_01.swc ...\n",
      "Loading data 0207_00629_2L_C01_01.swc ...\n",
      "Loading data 0211_00645_2L_C01_01.swc ...\n",
      "Loading data 0227_00637_1L_C06_02.swc ...\n",
      "Loading data 0234_00629_1R_C02_01.swc ...\n",
      "Loading data 0239_00628_1L_C03_01.swc ...\n",
      "Loading data 0249_00643_1L_C01_01.swc ...\n",
      "Loading data 0268_00643_3L_C01_01.swc ...\n",
      "Loading data 0279_00629_1L_C11_01.swc ...\n",
      "Loading data 0280_00654_3R_C01_01.swc ...\n",
      "Loading data 0292_00591_1R_C02_01.swc ...\n",
      "Loading data 0305_00643_3L_C06_01.swc ...\n",
      "Loading data 0306_00643_3L_C08_01.swc ...\n",
      "Loading data 0318_00643_3R_C10_01.swc ...\n",
      "Loading data 0327_00654_3R_C03_01.swc ...\n",
      "Loading data 0330_00654_3R_C05_01.swc ...\n",
      "Loading data 0336_00654_1L_C01_01.swc ...\n",
      "Loading data 0339_00654_1L_C04_01.swc ...\n",
      "Loading data 0346_00656_8R_C06_01.swc ...\n",
      "Loading data 0357_00654_2R_C01_01.swc ...\n",
      "Loading data 0367_00681_1L_C02_01.swc ...\n",
      "Loading data 0370_00681_1L_C05_01.swc ...\n",
      "Loading data 0372_00681_3R_C01_01.swc ...\n",
      "Loading data 0376_00681_3R_C05_01.swc ...\n",
      "Loading data 0377_00681_3L_C04_01.swc ...\n",
      "Loading data 0380_00683_1R_C03_01.swc ...\n",
      "Loading data 0398_00656_1R_C04_01.swc ...\n",
      "Loading data 0402_00658_1L_C04_01.swc ...\n",
      "Loading data 0404_00658_1L_C06_01.swc ...\n",
      "Loading data 0406_00681_1L_C08_01.swc ...\n",
      "Loading data 0407_00681_2R_C08_01.swc ...\n",
      "Loading data 0408_00707_1R_C01_01.swc ...\n",
      "Loading data 0411_00643_2R_C03_01.swc ...\n",
      "Loading data 0421_00638_1R_C06_01.swc ...\n",
      "Loading data 0431_00681_2L_C01_08.swc ...\n",
      "Loading data 0440_00681_2L_C01_17.swc ...\n",
      "Loading data 0450_00681_2L_C01_27.swc ...\n",
      "Loading data 0451_00681_2L_C02_03.swc ...\n",
      "Loading data 0456_00681_2L_C04_05.swc ...\n",
      "Loading data 0457_00681_2L_C04_06.swc ...\n",
      "Loading data 0472_00643_3L_C02_06.swc ...\n",
      "Loading data 0473_00643_3L_C02_07.swc ...\n",
      "Loading data 0484_00643_3L_C02_19.swc ...\n",
      "Loading data 0489_00643_3L_C02_24.swc ...\n",
      "Loading data 0496_00643_3L_C02_31.swc ...\n",
      "Loading data 0506_00643_3L_C02_41.swc ...\n",
      "Loading data 0517_00643_3L_C02_54.swc ...\n",
      "Loading data 0518_00643_3L_C02_55.swc ...\n",
      "Loading data 0524_00643_3L_C02_61.swc ...\n",
      "Loading data 0525_00643_3L_C02_62.swc ...\n",
      "Loading data 0564_00643_3L_C03_47.swc ...\n",
      "Loading data 0585_00549_4R_C20_02.swc ...\n",
      "Loading data 0590_00549_4R_C20_07.swc ...\n",
      "Loading data 0599_00549_4R_C20_16.swc ...\n",
      "Loading data 0601_00549_4R_C20_18.swc ...\n",
      "Loading data 0624_00654_1R_C07_16.swc ...\n",
      "Loading data 0631_00654_1R_C07_23.swc ...\n",
      "Loading data 0641_00707_4R_C04_01.swc ...\n",
      "Loading data 0644_00727_5R_C03_01.swc ...\n",
      "Loading data 0654_00707_1R_C03_01.swc ...\n",
      "Loading data 0656_00707_1R_C05_01.swc ...\n"
     ]
    }
   ],
   "source": [
    "sample_image_stacks(test_iterator.sampler.indices, \"./data/Farrow_data/\")"
   ]
  }
 ],
 "metadata": {
  "kernelspec": {
   "display_name": "Python 3",
   "language": "python",
   "name": "python3"
  },
  "language_info": {
   "codemirror_mode": {
    "name": "ipython",
    "version": 3
   },
   "file_extension": ".py",
   "mimetype": "text/x-python",
   "name": "python",
   "nbconvert_exporter": "python",
   "pygments_lexer": "ipython3",
   "version": "3.7.5"
  }
 },
 "nbformat": 4,
 "nbformat_minor": 4
}
