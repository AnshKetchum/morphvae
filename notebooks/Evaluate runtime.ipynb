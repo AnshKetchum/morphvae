{
 "cells": [
  {
   "cell_type": "code",
   "execution_count": 44,
   "metadata": {},
   "outputs": [],
   "source": [
    "import pandas as pd\n",
    "import numpy as np\n",
    "import os\n",
    "\n",
    "from scipy.io import loadmat"
   ]
  },
  {
   "cell_type": "code",
   "execution_count": 45,
   "metadata": {},
   "outputs": [],
   "source": [
    "df = pd.DataFrame()\n",
    "elapsed_time_exc = loadmat(\"./data/M1_exc_data/TREESToolbox/elapsedTime.mat\")['elapsedTime']\n",
    "d = dict(zip(['loading img stack', 'sampling points', 'mst'], elapsed_time_exc.mean(axis=0)))\n",
    "d['dataset'] = 'M1 EXC'\n",
    "d['value'] = 'mean'\n",
    "df = pd.concat((df, pd.DataFrame(d, index=[0])))\n",
    "\n",
    "d = dict(zip(['loading img stack', 'sampling points', 'mst'], elapsed_time_exc.std(axis=0)))\n",
    "d['dataset'] = 'M1 EXC'\n",
    "d['value'] = 'std'\n",
    "df = pd.concat((df, pd.DataFrame(d, index=[0])))"
   ]
  },
  {
   "cell_type": "code",
   "execution_count": 46,
   "metadata": {},
   "outputs": [],
   "source": [
    "elapsed_time_inh = loadmat(\"./data/M1_inh_data/TREESToolbox/elapsedTime.mat\")['elapsedTime']\n",
    "d = dict(zip(['loading img stack', 'sampling points', 'mst'], elapsed_time_inh.mean(axis=0)))\n",
    "d['dataset'] = 'M1 INH'\n",
    "d['value'] = 'mean'\n",
    "df = pd.concat((df, pd.DataFrame(d, index=[0])))\n",
    "\n",
    "d = dict(zip(['loading img stack', 'sampling points', 'mst'], elapsed_time_exc.std(axis=0)))\n",
    "d['dataset'] = 'M1 INH'\n",
    "d['value'] = 'std'\n",
    "df = pd.concat((df, pd.DataFrame(d, index=[0])))"
   ]
  },
  {
   "cell_type": "code",
   "execution_count": 47,
   "metadata": {},
   "outputs": [],
   "source": [
    "elapsed_time_rgc = loadmat(\"./data/Farrow_data/TREESToolbox/elapsedTime.mat\")['elapsedTime']\n",
    "d = dict(zip(['loading img stack', 'sampling points', 'mst'], elapsed_time_rgc.mean(axis=0)))\n",
    "d['dataset'] = 'RGC'\n",
    "d['value'] = 'mean'\n",
    "df = pd.concat((df, pd.DataFrame(d, index=[0])))\n",
    "\n",
    "d = dict(zip(['loading img stack', 'sampling points', 'mst'], elapsed_time_exc.std(axis=0)))\n",
    "d['dataset'] = 'RGC'\n",
    "d['value'] = 'std'\n",
    "df = pd.concat((df, pd.DataFrame(d, index=[0])))"
   ]
  },
  {
   "cell_type": "code",
   "execution_count": 50,
   "metadata": {},
   "outputs": [
    {
     "data": {
      "text/html": [
       "<div>\n",
       "<style scoped>\n",
       "    .dataframe tbody tr th:only-of-type {\n",
       "        vertical-align: middle;\n",
       "    }\n",
       "\n",
       "    .dataframe tbody tr th {\n",
       "        vertical-align: top;\n",
       "    }\n",
       "\n",
       "    .dataframe thead th {\n",
       "        text-align: right;\n",
       "    }\n",
       "</style>\n",
       "<table border=\"1\" class=\"dataframe\">\n",
       "  <thead>\n",
       "    <tr style=\"text-align: right;\">\n",
       "      <th></th>\n",
       "      <th></th>\n",
       "      <th>loading img stack</th>\n",
       "      <th>sampling points</th>\n",
       "      <th>mst</th>\n",
       "    </tr>\n",
       "    <tr>\n",
       "      <th>dataset</th>\n",
       "      <th>value</th>\n",
       "      <th></th>\n",
       "      <th></th>\n",
       "      <th></th>\n",
       "    </tr>\n",
       "  </thead>\n",
       "  <tbody>\n",
       "    <tr>\n",
       "      <th rowspan=\"2\" valign=\"top\">M1 EXC</th>\n",
       "      <th>mean</th>\n",
       "      <td>16.584889</td>\n",
       "      <td>0.378543</td>\n",
       "      <td>0.184355</td>\n",
       "    </tr>\n",
       "    <tr>\n",
       "      <th>std</th>\n",
       "      <td>1.726447</td>\n",
       "      <td>0.077730</td>\n",
       "      <td>0.044156</td>\n",
       "    </tr>\n",
       "    <tr>\n",
       "      <th rowspan=\"2\" valign=\"top\">M1 INH</th>\n",
       "      <th>mean</th>\n",
       "      <td>16.584889</td>\n",
       "      <td>0.378543</td>\n",
       "      <td>0.184355</td>\n",
       "    </tr>\n",
       "    <tr>\n",
       "      <th>std</th>\n",
       "      <td>1.726447</td>\n",
       "      <td>0.077730</td>\n",
       "      <td>0.044156</td>\n",
       "    </tr>\n",
       "    <tr>\n",
       "      <th rowspan=\"2\" valign=\"top\">RGC</th>\n",
       "      <th>mean</th>\n",
       "      <td>16.608691</td>\n",
       "      <td>0.428092</td>\n",
       "      <td>0.280000</td>\n",
       "    </tr>\n",
       "    <tr>\n",
       "      <th>std</th>\n",
       "      <td>0.947927</td>\n",
       "      <td>0.400099</td>\n",
       "      <td>0.541788</td>\n",
       "    </tr>\n",
       "  </tbody>\n",
       "</table>\n",
       "</div>"
      ],
      "text/plain": [
       "               loading img stack  sampling points       mst\n",
       "dataset value                                              \n",
       "M1 EXC  mean           16.584889         0.378543  0.184355\n",
       "        std             1.726447         0.077730  0.044156\n",
       "M1 INH  mean           16.584889         0.378543  0.184355\n",
       "        std             1.726447         0.077730  0.044156\n",
       "RGC     mean           16.608691         0.428092  0.280000\n",
       "        std             0.947927         0.400099  0.541788"
      ]
     },
     "execution_count": 50,
     "metadata": {},
     "output_type": "execute_result"
    }
   ],
   "source": [
    "df.groupby(['dataset', 'value']).mean()"
   ]
  },
  {
   "cell_type": "code",
   "execution_count": 89,
   "metadata": {},
   "outputs": [],
   "source": [
    "df = pd.DataFrame()\n",
    "elapsed_time_exc = loadmat(\"./data/M1_exc_data/TREESToolbox/elapsedTime.mat\")['elapsedTime']\n",
    "d = pd.DataFrame(elapsed_time_exc.T, index=['loading img stack', 'sampling points', 'mst']).T\n",
    "d['dataset'] = 'M1 EXC'\n",
    "df = pd.concat((df,d))\n",
    "\n",
    "\n",
    "elapsed_time_inh = loadmat(\"./data/M1_inh_data/TREESToolbox/elapsedTime.mat\")['elapsedTime']\n",
    "d = pd.DataFrame(elapsed_time_inh.T, index=['loading img stack', 'sampling points', 'mst']).T\n",
    "d['dataset'] = 'M1 INH'\n",
    "df = pd.concat((df,d))\n",
    "\n",
    "\n",
    "elapsed_time_rgc = loadmat(\"./data/Farrow_data/TREESToolbox/elapsedTime.mat\")['elapsedTime']\n",
    "d = pd.DataFrame(elapsed_time_rgc.T, index=['loading img stack', 'sampling points', 'mst']).T\n",
    "d['dataset'] = 'RGC'\n",
    "df = pd.concat((df,d))"
   ]
  },
  {
   "cell_type": "code",
   "execution_count": 94,
   "metadata": {},
   "outputs": [
    {
     "data": {
      "text/plain": [
       "loading img stack    16.49\n",
       "sampling points       0.40\n",
       "mst                   0.24\n",
       "dtype: float64"
      ]
     },
     "execution_count": 94,
     "metadata": {},
     "output_type": "execute_result"
    }
   ],
   "source": [
    "df.mean().round(2)"
   ]
  },
  {
   "cell_type": "code",
   "execution_count": 106,
   "metadata": {},
   "outputs": [
    {
     "data": {
      "text/plain": [
       "0.64"
      ]
     },
     "execution_count": 106,
     "metadata": {},
     "output_type": "execute_result"
    }
   ],
   "source": [
    "(df['sampling points'] + df['mst']).std().round(2)"
   ]
  },
  {
   "cell_type": "code",
   "execution_count": 109,
   "metadata": {},
   "outputs": [
    {
     "data": {
      "text/plain": [
       "0.03"
      ]
     },
     "execution_count": 109,
     "metadata": {},
     "output_type": "execute_result"
    }
   ],
   "source": [
    "np.std([0.65, 0.72, 0.71]).round(2)"
   ]
  },
  {
   "cell_type": "code",
   "execution_count": 95,
   "metadata": {
    "scrolled": true
   },
   "outputs": [
    {
     "data": {
      "text/plain": [
       "loading img stack    1.19\n",
       "sampling points      0.27\n",
       "mst                  0.37\n",
       "dtype: float64"
      ]
     },
     "execution_count": 95,
     "metadata": {},
     "output_type": "execute_result"
    }
   ],
   "source": [
    "df[df[''.std().round(2)"
   ]
  }
 ],
 "metadata": {
  "kernelspec": {
   "display_name": "Python 3",
   "language": "python",
   "name": "python3"
  },
  "language_info": {
   "codemirror_mode": {
    "name": "ipython",
    "version": 3
   },
   "file_extension": ".py",
   "mimetype": "text/x-python",
   "name": "python",
   "nbconvert_exporter": "python",
   "pygments_lexer": "ipython3",
   "version": "3.7.5"
  }
 },
 "nbformat": 4,
 "nbformat_minor": 4
}
