{
 "cells": [
  {
   "cell_type": "markdown",
   "metadata": {},
   "source": [
    "Perform k=5 nearest neighbour classification on different neuron representations AND density maps"
   ]
  },
  {
   "cell_type": "code",
   "execution_count": 1,
   "metadata": {},
   "outputs": [],
   "source": [
    "from sklearn.neighbors import KNeighborsClassifier\n",
    "import numpy as np\n",
    "\n",
    "## plotting ###\n",
    "\n",
    "import warnings\n",
    "warnings.filterwarnings(\"ignore\")\n",
    "\n",
    "import matplotlib.pyplot as plt\n",
    "import seaborn as sns\n",
    "\n",
    "%matplotlib inline"
   ]
  },
  {
   "cell_type": "code",
   "execution_count": 2,
   "metadata": {},
   "outputs": [],
   "source": [
    "def get_confusion_matrix(predicted_labels, true_labels):\n",
    "    \n",
    "    n_classes = len(np.unique(true_labels))\n",
    "    \n",
    "    confusion = np.zeros((n_classes, n_classes))\n",
    "    for k, c in enumerate(np.unique(true_labels)):\n",
    "        \n",
    "        label_index = true_labels == c\n",
    "        \n",
    "        classes, counts = np.unique(predicted_labels[label_index], return_counts=True)\n",
    "        confusion[k, classes] = counts\n",
    "    return confusion\n",
    "\n",
    "def tp(a, ix):\n",
    "    return a[ix,ix]\n",
    "\n",
    "def tn(a, ix):\n",
    "    c, c = a.shape\n",
    "    indices = list(range(c))\n",
    "    indices.pop(ix)\n",
    "    indices = np.array(indices)\n",
    "    b = a[:,indices][indices]\n",
    "    return b.sum()\n",
    "\n",
    "def fn(a, ix):\n",
    "    c, c = a.shape\n",
    "    indices = list(range(c))\n",
    "    indices.pop(ix)\n",
    "    indices = np.array(indices)\n",
    "    \n",
    "    return a[ix,indices].sum()\n",
    "\n",
    "def fp(a, ix):\n",
    "    c, c = a.shape\n",
    "    indices = list(range(c))\n",
    "    indices.pop(ix)\n",
    "    indices = np.array(indices)\n",
    "    return a[:,ix][indices].sum()"
   ]
  },
  {
   "cell_type": "code",
   "execution_count": 3,
   "metadata": {},
   "outputs": [],
   "source": [
    "with open('./data/toy_data/3_populations/latent/k500/labels/train_labels.npy', 'rb') as f:\n",
    "    train_labels = np.load(f)\n",
    "    \n",
    "with open('./data/toy_data/3_populations/latent/k500/labels/test_labels.npy', 'rb') as f:\n",
    "    test_labels = np.load(f)"
   ]
  },
  {
   "cell_type": "code",
   "execution_count": 4,
   "metadata": {
    "scrolled": true
   },
   "outputs": [
    {
     "data": {
      "image/png": "[encoded data removed]",
      "text/plain": [
       "<Figure size 504x144 with 3 Axes>"
      ]
     },
     "metadata": {},
     "output_type": "display_data"
    }
   ],
   "source": [
    "sns.set(font_scale=1.5)\n",
    "\n",
    "fig, axes = plt.subplots(1,3,figsize=(7,2))\n",
    "Cs = []\n",
    "for k, frac in enumerate([.9,.5,.1]):\n",
    "    \n",
    "    confusion_matrices = []\n",
    "    for run in range(1,4):\n",
    "        with open('./data/toy_data/3_populations/latent/k500/neuron_latent_representation_frac_%.1f_run%i_train'%(frac, run), 'rb') as f:\n",
    "            train_data = np.load(f)\n",
    "\n",
    "        with open('./data/toy_data/3_populations/latent/k500/neuron_latent_representation_frac_%.1f_run%i_test'%(frac, run), 'rb') as f:\n",
    "            test_data = np.load(f)\n",
    "        \n",
    "        k_nn = KNeighborsClassifier(n_neighbors=5)\n",
    "        k_nn.fit(train_data, train_labels)\n",
    "        \n",
    "#         print('On run %i of model frac %.1f:'%(run,frac))\n",
    "#         print('Training score: ', k_nn.score(train_data, train_labels))\n",
    "#         print('Test score: ',  k_nn.score(test_data, test_labels))\n",
    "       \n",
    "        predicted_labels = k_nn.predict(test_data)\n",
    "        confusion = get_confusion_matrix(predicted_labels, test_labels)\n",
    "        confusion_matrices.append(np.expand_dims(confusion, -1))\n",
    "    confusion_matrices = np.concatenate(confusion_matrices, axis=-1)\n",
    "    avg_conf = confusion_matrices.sum(axis=-1)\n",
    "    avg_conf /= avg_conf.sum(axis=1).reshape(-1,1)\n",
    "    avg_conf = (avg_conf*100).round()\n",
    "    Cs.append(confusion_matrices)\n",
    "    annotation = confusion_matrices.mean(axis=2).round(1)\n",
    "    sns.heatmap(avg_conf, cmap='Greys', annot=annotation, cbar=False, fmt='.0f', annot_kws=dict(size=16),\n",
    "            xticklabels=['P1', 'P2', 'P3'], square=True,\n",
    "           yticklabels=['P1', 'P2', 'P3'], ax=axes[k])\n",
    "    axes[k].set_yticklabels(['P1', 'P2', 'P3'], rotation=0)\n",
    "fig.subplots_adjust( wspace=.5)\n",
    "plt.savefig('./pics/ICML/resubmission/Fig4/confusion_matrices_toy_data.svg', format='svg')"
   ]
  },
  {
   "cell_type": "code",
   "execution_count": 5,
   "metadata": {},
   "outputs": [
    {
     "data": {
      "text/plain": [
       "array([[0.98, 0.02, 0.  ],\n",
       "       [0.03, 0.96, 0.01],\n",
       "       [0.  , 0.08, 0.92]])"
      ]
     },
     "execution_count": 5,
     "metadata": {},
     "output_type": "execute_result"
    }
   ],
   "source": [
    "Cs = np.array(Cs)\n",
    "Cs_ = Cs / np.sum(Cs, axis=2)\n",
    "Cs_.mean(axis=3).mean(axis=0).round(2)"
   ]
  },
  {
   "cell_type": "code",
   "execution_count": 6,
   "metadata": {},
   "outputs": [
    {
     "data": {
      "text/plain": [
       "array([[0.002, 0.002, 0.   ],\n",
       "       [0.008, 0.012, 0.006],\n",
       "       [0.   , 0.043, 0.043]])"
      ]
     },
     "execution_count": 6,
     "metadata": {},
     "output_type": "execute_result"
    }
   ],
   "source": [
    "Cs_.mean(axis=3).std(axis=0).round(3)"
   ]
  },
  {
   "cell_type": "code",
   "execution_count": 7,
   "metadata": {
    "scrolled": true
   },
   "outputs": [
    {
     "data": {
      "text/plain": [
       "array([[[0.98, 0.03, 0.  ],\n",
       "        [0.03, 0.97, 0.  ],\n",
       "        [0.  , 0.03, 0.98]],\n",
       "\n",
       "       [[0.98, 0.02, 0.  ],\n",
       "        [0.04, 0.94, 0.01],\n",
       "        [0.  , 0.08, 0.93]],\n",
       "\n",
       "       [[0.98, 0.03, 0.  ],\n",
       "        [0.02, 0.97, 0.01],\n",
       "        [0.  , 0.13, 0.87]]])"
      ]
     },
     "execution_count": 7,
     "metadata": {},
     "output_type": "execute_result"
    }
   ],
   "source": [
    "Cs_.mean(axis=3).round(2)"
   ]
  },
  {
   "cell_type": "code",
   "execution_count": 8,
   "metadata": {},
   "outputs": [
    {
     "data": {
      "text/plain": [
       "array([[[0.014, 0.014, 0.   ],\n",
       "        [0.   , 0.   , 0.   ],\n",
       "        [0.   , 0.007, 0.007]],\n",
       "\n",
       "       [[0.007, 0.007, 0.   ],\n",
       "        [0.007, 0.019, 0.012],\n",
       "        [0.   , 0.021, 0.021]],\n",
       "\n",
       "       [[0.007, 0.007, 0.   ],\n",
       "        [0.007, 0.012, 0.014],\n",
       "        [0.   , 0.05 , 0.049]]])"
      ]
     },
     "execution_count": 8,
     "metadata": {},
     "output_type": "execute_result"
    }
   ],
   "source": [
    "Cs_.std(axis=3).round(3)"
   ]
  },
  {
   "cell_type": "code",
   "execution_count": 9,
   "metadata": {},
   "outputs": [],
   "source": [
    "# Fully unsupervised\n",
    "confusion_matrices = list()\n",
    "for run in range(1,4):\n",
    "    with open('./data/toy_data/3_populations/latent/k500/neuron_latent_representation_frac_%.1f_run%i_train'%(0.0, run), 'rb') as f:\n",
    "        train_data = np.load(f)\n",
    "\n",
    "    with open('./data/toy_data/3_populations/latent/k500/neuron_latent_representation_frac_%.1f_run%i_test'%(0.0, run), 'rb') as f:\n",
    "        test_data = np.load(f)\n",
    "\n",
    "        k_nn = KNeighborsClassifier(n_neighbors=5)\n",
    "        k_nn.fit(train_data, train_labels)\n",
    "\n",
    "\n",
    "        predicted_labels = k_nn.predict(test_data)\n",
    "        confusion = get_confusion_matrix(predicted_labels, test_labels)\n",
    "        confusion_matrices.append(np.expand_dims(confusion, -1))\n",
    "confusion_matrices = np.concatenate(confusion_matrices, axis=-1)\n",
    "avg_conf = confusion_matrices.sum(axis=-1)\n",
    "avg_conf /= avg_conf.sum(axis=1).reshape(-1,1)"
   ]
  },
  {
   "cell_type": "code",
   "execution_count": 10,
   "metadata": {},
   "outputs": [],
   "source": [
    "from copy import copy"
   ]
  },
  {
   "cell_type": "code",
   "execution_count": 11,
   "metadata": {},
   "outputs": [],
   "source": [
    "C_ = copy(confusion_matrices)"
   ]
  },
  {
   "cell_type": "code",
   "execution_count": 12,
   "metadata": {},
   "outputs": [
    {
     "name": "stdout",
     "output_type": "stream",
     "text": [
      "[[0.96517413 0.03535354 0.        ]\n",
      " [0.00497512 0.99494949 0.        ]\n",
      " [0.         0.14646465 0.85572139]]\n",
      "[[0.00703589 0.00714249 0.        ]\n",
      " [0.00703589 0.00714249 0.        ]\n",
      " [0.         0.00714249 0.00703589]]\n"
     ]
    }
   ],
   "source": [
    "C_ /= C_.sum(axis=1)\n",
    "print(C_.mean(axis=-1))\n",
    "print(C_.std(axis=-1))"
   ]
  },
  {
   "cell_type": "code",
   "execution_count": 13,
   "metadata": {},
   "outputs": [
    {
     "data": {
      "text/plain": [
       "array([[0.96517413, 0.03482587, 0.        ],\n",
       "       [0.00505051, 0.99494949, 0.        ],\n",
       "       [0.        , 0.14427861, 0.85572139]])"
      ]
     },
     "execution_count": 13,
     "metadata": {},
     "output_type": "execute_result"
    }
   ],
   "source": [
    "avg_conf"
   ]
  },
  {
   "cell_type": "code",
   "execution_count": 14,
   "metadata": {},
   "outputs": [],
   "source": [
    "## load in max pooled on original walks\n",
    "with open('./data/toy_data/3_populations/max-pooled/max_pooled_train.npy', 'rb') as f:\n",
    "    train_data_max_pooled = np.load(f)\n",
    "    \n",
    "with open('./data/toy_data/3_populations/max-pooled/train_labels.npy', 'rb') as f:\n",
    "    train_labels_max_pooled = np.load(f)\n",
    "\n",
    "with open('./data/toy_data/3_populations/max-pooled/max_pooled_test.npy', 'rb') as f:\n",
    "    test_data_max_pooled = np.load(f)\n",
    "    \n",
    "with open('./data/toy_data/3_populations/max-pooled/test_labels.npy', 'rb') as f:\n",
    "    test_labels_max_pooled = np.load(f)"
   ]
  },
  {
   "cell_type": "code",
   "execution_count": 15,
   "metadata": {},
   "outputs": [],
   "source": [
    "k_nn.fit(train_data_max_pooled, train_labels_max_pooled)\n",
    "predicted_labels_max_pooled = k_nn.predict(test_data_max_pooled)\n",
    "\n",
    "confusion = get_confusion_matrix(predicted_labels_max_pooled, test_labels_max_pooled)\n",
    "avg_conf = (confusion / confusion.sum(axis=1).reshape(-1,1))*100\n"
   ]
  },
  {
   "cell_type": "code",
   "execution_count": 16,
   "metadata": {},
   "outputs": [
    {
     "data": {
      "image/png": "[encoded data removed]",
      "text/plain": [
       "<Figure size 144x144 with 1 Axes>"
      ]
     },
     "metadata": {},
     "output_type": "display_data"
    }
   ],
   "source": [
    "fig = plt.figure(figsize=(2,2))\n",
    "sns.heatmap(avg_conf.round(), cmap='Greys', annot=confusion, cbar=False, fmt='.0f', annot_kws=dict(size=16),\n",
    "            xticklabels=['P1', 'P2', 'P3'],\n",
    "           yticklabels=['P1', 'P2', 'P3'], square=True)\n",
    "plt.gca().set_yticklabels(['P1', 'P2', 'P3'], rotation=0)\n",
    "\n",
    "plt.savefig('./pics/ICML/resubmission/Fig4/confusion_matrices_toy_data_max_pooled.svg', format='svg')"
   ]
  },
  {
   "cell_type": "code",
   "execution_count": 17,
   "metadata": {},
   "outputs": [],
   "source": [
    "### load in density maps\n",
    "\n",
    "with open('./data/toy_data/3_populations/density_map/xy_dm_10pcs_train.npy', 'rb') as f:\n",
    "    train_data_dm = np.load(f)\n",
    "\n",
    "with open('./data/toy_data/3_populations/density_map/xy_dm_10pcs_test.npy', 'rb') as f:\n",
    "    test_data_dm = np.load(f)\n",
    "    \n",
    "np.random.seed(17)\n",
    "N = 1200\n",
    "N_train = 750\n",
    "N_val = 250 \n",
    "N_test = N - N_train - N_val\n",
    "train_index = np.random.choice(range(N), size=N_train, replace=False)\n",
    "val_index = np.random.choice(list(set(range(N)) - set(train_index)), size=N_val, replace=False)\n",
    "test_index = np.array(list(set(range(N)) - set(train_index) -set(val_index)))"
   ]
  },
  {
   "cell_type": "code",
   "execution_count": 18,
   "metadata": {},
   "outputs": [],
   "source": [
    "train_labels_dm = np.zeros(train_index.shape).astype(int)\n",
    "train_labels_dm[train_index >=400] = 1\n",
    "train_labels_dm[train_index >=800] = 2\n",
    "\n",
    "test_labels_dm = np.zeros(test_index.shape).astype(int)\n",
    "test_labels_dm[test_index >=400] = 1\n",
    "test_labels_dm[test_index >=800] = 2"
   ]
  },
  {
   "cell_type": "code",
   "execution_count": 19,
   "metadata": {},
   "outputs": [],
   "source": [
    "k_nn.fit(train_data_dm, train_labels_dm)\n",
    "predicted_labels_dm = k_nn.predict(test_data_dm)\n",
    "\n",
    "confusion = get_confusion_matrix(predicted_labels_dm, test_labels_dm)\n",
    "avg_conf = (confusion / confusion.sum(axis=1).reshape(-1,1))*100\n"
   ]
  },
  {
   "cell_type": "code",
   "execution_count": 20,
   "metadata": {},
   "outputs": [
    {
     "data": {
      "image/png": "[encoded data removed]",
      "text/plain": [
       "<Figure size 144x144 with 1 Axes>"
      ]
     },
     "metadata": {},
     "output_type": "display_data"
    }
   ],
   "source": [
    "fig = plt.figure(figsize=(2,2))\n",
    "sns.heatmap(avg_conf.round(), cmap='Greys', annot=confusion, cbar=False, fmt='.0f', annot_kws=dict(size=16),\n",
    "            xticklabels=['P1', 'P2', 'P3'],\n",
    "           yticklabels=['P1', 'P2', 'P3'], square=True)\n",
    "plt.gca().set_yticklabels(['P1', 'P2', 'P3'], rotation=0)\n",
    "\n",
    "plt.savefig('./pics/ICML/resubmission/Fig4/confusion_matrices_toy_data_dm.svg', format='svg')"
   ]
  },
  {
   "cell_type": "markdown",
   "metadata": {},
   "source": [
    "## Real data"
   ]
  },
  {
   "cell_type": "code",
   "execution_count": 28,
   "metadata": {},
   "outputs": [],
   "source": [
    "with open('./data/M1_exc_data/latent/k500/rna_labels/labels/train_labels.npy', 'rb') as f:\n",
    "    train_labels = np.load(f)\n",
    "\n",
    "with open('./data/M1_exc_data/latent/k500/rna_labels/labels/val_labels.npy', 'rb') as f:\n",
    "    val_labels = np.load(f)\n",
    "    \n",
    "with open('./data/M1_exc_data/latent/k500/rna_labels/labels/test_labels.npy', 'rb') as f:\n",
    "    test_labels = np.load(f)"
   ]
  },
  {
   "cell_type": "code",
   "execution_count": 24,
   "metadata": {},
   "outputs": [
    {
     "name": "stdout",
     "output_type": "stream",
     "text": [
      "On run 1 of model frac 0.9:\n",
      "Training score:  0.85\n",
      "Test score:  0.7307692307692307\n",
      "On run 2 of model frac 0.9:\n",
      "Training score:  0.85\n",
      "Test score:  0.8076923076923077\n",
      "On run 3 of model frac 0.9:\n",
      "Training score:  0.88125\n",
      "Test score:  0.8269230769230769\n",
      "On run 1 of model frac 0.5:\n",
      "Training score:  0.84375\n",
      "Test score:  0.7307692307692307\n",
      "On run 2 of model frac 0.5:\n",
      "Training score:  0.875\n",
      "Test score:  0.7884615384615384\n",
      "On run 3 of model frac 0.5:\n",
      "Training score:  0.8625\n",
      "Test score:  0.7692307692307693\n",
      "On run 1 of model frac 0.1:\n",
      "Training score:  0.85\n",
      "Test score:  0.7692307692307693\n",
      "On run 2 of model frac 0.1:\n",
      "Training score:  0.84375\n",
      "Test score:  0.7692307692307693\n",
      "On run 3 of model frac 0.1:\n",
      "Training score:  0.8625\n",
      "Test score:  0.7692307692307693\n"
     ]
    },
    {
     "data": {
      "image/png": "[encoded data removed]",
      "text/plain": [
       "<Figure size 504x144 with 3 Axes>"
      ]
     },
     "metadata": {},
     "output_type": "display_data"
    }
   ],
   "source": [
    "sns.set(font_scale=1.5)\n",
    "\n",
    "fig, axes = plt.subplots(1,3,figsize=(7,2))\n",
    "for k, frac in enumerate([.9,.5,.1]):\n",
    "    \n",
    "    confusion_matrices = []\n",
    "    for run in range(1,4):\n",
    "        with open('./data/M1_exc_data/latent/k500/rna_labels/neuron_latent_representation_frac_%.1f_run%i_train'%(frac, run), 'rb') as f:\n",
    "            train_data = np.load(f)\n",
    "\n",
    "#         with open('./data/M1_data/latent/k500/neuron_latent_representation_frac_%.1f_run%i_val'%(frac, run), 'rb') as f:\n",
    "#             val_data = np.load(f)\n",
    "            \n",
    "        with open('./data/M1_exc_data/latent/k500/rna_labels/neuron_latent_representation_frac_%.1f_run%i_test'%(frac, run), 'rb') as f:\n",
    "            test_data = np.load(f)\n",
    "        \n",
    "        k_nn = KNeighborsClassifier(n_neighbors=5)\n",
    "        k_nn.fit(train_data, train_labels)\n",
    "        \n",
    "        print('On run %i of model frac %.1f:'%(run,frac))\n",
    "        print('Training score: ', k_nn.score(train_data, train_labels))\n",
    "#         print('Val score: ',  k_nn.score(val_data, val_labels))\n",
    "        print('Test score: ',  k_nn.score(test_data, test_labels))\n",
    "       \n",
    "        predicted_labels = k_nn.predict(test_data)\n",
    "        confusion = get_confusion_matrix(predicted_labels, test_labels)\n",
    "        confusion_matrices.append(np.expand_dims(confusion, -1))\n",
    "    confusion_matrices = np.concatenate(confusion_matrices, axis=-1)\n",
    "    avg_conf = confusion_matrices.sum(axis=-1)\n",
    "    avg_conf/=avg_conf.sum(axis=1).reshape(-1,1)\n",
    "    \n",
    "    sns.heatmap((avg_conf*100).round(), cmap='Greys', annot=True, cbar=False, fmt='.0f', annot_kws=dict(size=16),\n",
    "            xticklabels=['IT', 'CT', 'ET'], square=True,\n",
    "           yticklabels=['IT', 'CT', 'ET'], ax=axes[k])\n",
    "    axes[k].set_yticklabels(['IT', 'CT', 'ET'], rotation=0)\n",
    "fig.subplots_adjust( wspace=.5)\n",
    "# plt.savefig('./pics/ICML/v3/Fig6/confusion_matrices_pyr_data.svg', format='svg')"
   ]
  },
  {
   "cell_type": "code",
   "execution_count": 26,
   "metadata": {},
   "outputs": [],
   "source": [
    "### load in density maps\n",
    "\n",
    "with open('./data/M1_exc_data/density_map/xz_dm_5pcs_train_c3.npy', 'rb') as f:\n",
    "    train_data_dm = np.load(f)\n",
    "\n",
    "with open('./data/M1_exc_data/density_map/xz_dm_5pcs_test_c3.npy', 'rb') as f:\n",
    "    test_data_dm = np.load(f)"
   ]
  },
  {
   "cell_type": "code",
   "execution_count": 27,
   "metadata": {},
   "outputs": [
    {
     "ename": "IndexError",
     "evalue": "boolean index did not match indexed array along dimension 0; dimension is 60 but corresponding boolean dimension is 52",
     "output_type": "error",
     "traceback": [
      "\u001b[0;31m---------------------------------------------------------------------------\u001b[0m",
      "\u001b[0;31mIndexError\u001b[0m                                Traceback (most recent call last)",
      "\u001b[0;32m<ipython-input-27-f86eced2f99e>\u001b[0m in \u001b[0;36m<module>\u001b[0;34m\u001b[0m\n\u001b[1;32m      2\u001b[0m \u001b[0mpredicted_labels_dm\u001b[0m \u001b[0;34m=\u001b[0m \u001b[0mk_nn\u001b[0m\u001b[0;34m.\u001b[0m\u001b[0mpredict\u001b[0m\u001b[0;34m(\u001b[0m\u001b[0mtest_data_dm\u001b[0m\u001b[0;34m)\u001b[0m\u001b[0;34m\u001b[0m\u001b[0;34m\u001b[0m\u001b[0m\n\u001b[1;32m      3\u001b[0m \u001b[0;34m\u001b[0m\u001b[0m\n\u001b[0;32m----> 4\u001b[0;31m \u001b[0mconfusion\u001b[0m \u001b[0;34m=\u001b[0m \u001b[0mget_confusion_matrix\u001b[0m\u001b[0;34m(\u001b[0m\u001b[0mpredicted_labels_dm\u001b[0m\u001b[0;34m,\u001b[0m \u001b[0mtest_labels\u001b[0m\u001b[0;34m)\u001b[0m\u001b[0;34m\u001b[0m\u001b[0;34m\u001b[0m\u001b[0m\n\u001b[0m\u001b[1;32m      5\u001b[0m \u001b[0mconfusion\u001b[0m \u001b[0;34m/=\u001b[0m \u001b[0mconfusion\u001b[0m\u001b[0;34m.\u001b[0m\u001b[0msum\u001b[0m\u001b[0;34m(\u001b[0m\u001b[0maxis\u001b[0m\u001b[0;34m=\u001b[0m\u001b[0;36m1\u001b[0m\u001b[0;34m)\u001b[0m\u001b[0;34m.\u001b[0m\u001b[0mreshape\u001b[0m\u001b[0;34m(\u001b[0m\u001b[0;34m-\u001b[0m\u001b[0;36m1\u001b[0m\u001b[0;34m,\u001b[0m\u001b[0;36m1\u001b[0m\u001b[0;34m)\u001b[0m\u001b[0;34m\u001b[0m\u001b[0;34m\u001b[0m\u001b[0m\n",
      "\u001b[0;32m<ipython-input-2-9637863ac386>\u001b[0m in \u001b[0;36mget_confusion_matrix\u001b[0;34m(predicted_labels, true_labels)\u001b[0m\n\u001b[1;32m      8\u001b[0m         \u001b[0mlabel_index\u001b[0m \u001b[0;34m=\u001b[0m \u001b[0mtrue_labels\u001b[0m \u001b[0;34m==\u001b[0m \u001b[0mc\u001b[0m\u001b[0;34m\u001b[0m\u001b[0;34m\u001b[0m\u001b[0m\n\u001b[1;32m      9\u001b[0m \u001b[0;34m\u001b[0m\u001b[0m\n\u001b[0;32m---> 10\u001b[0;31m         \u001b[0mclasses\u001b[0m\u001b[0;34m,\u001b[0m \u001b[0mcounts\u001b[0m \u001b[0;34m=\u001b[0m \u001b[0mnp\u001b[0m\u001b[0;34m.\u001b[0m\u001b[0munique\u001b[0m\u001b[0;34m(\u001b[0m\u001b[0mpredicted_labels\u001b[0m\u001b[0;34m[\u001b[0m\u001b[0mlabel_index\u001b[0m\u001b[0;34m]\u001b[0m\u001b[0;34m,\u001b[0m \u001b[0mreturn_counts\u001b[0m\u001b[0;34m=\u001b[0m\u001b[0;32mTrue\u001b[0m\u001b[0;34m)\u001b[0m\u001b[0;34m\u001b[0m\u001b[0;34m\u001b[0m\u001b[0m\n\u001b[0m\u001b[1;32m     11\u001b[0m         \u001b[0mconfusion\u001b[0m\u001b[0;34m[\u001b[0m\u001b[0mk\u001b[0m\u001b[0;34m,\u001b[0m \u001b[0mclasses\u001b[0m\u001b[0;34m]\u001b[0m \u001b[0;34m=\u001b[0m \u001b[0mcounts\u001b[0m\u001b[0;34m\u001b[0m\u001b[0;34m\u001b[0m\u001b[0m\n\u001b[1;32m     12\u001b[0m     \u001b[0;32mreturn\u001b[0m \u001b[0mconfusion\u001b[0m\u001b[0;34m\u001b[0m\u001b[0;34m\u001b[0m\u001b[0m\n",
      "\u001b[0;31mIndexError\u001b[0m: boolean index did not match indexed array along dimension 0; dimension is 60 but corresponding boolean dimension is 52"
     ]
    }
   ],
   "source": [
    "k_nn.fit(train_data_dm, train_labels)\n",
    "predicted_labels_dm = k_nn.predict(test_data_dm)\n",
    "\n",
    "confusion = get_confusion_matrix(predicted_labels_dm, test_labels)\n",
    "confusion /= confusion.sum(axis=1).reshape(-1,1)"
   ]
  },
  {
   "cell_type": "code",
   "execution_count": 30,
   "metadata": {},
   "outputs": [
    {
     "data": {
      "image/png": "[encoded data removed]",
      "text/plain": [
       "<Figure size 144x144 with 1 Axes>"
      ]
     },
     "metadata": {},
     "output_type": "display_data"
    }
   ],
   "source": [
    "fig = plt.figure(figsize=(2,2))\n",
    "sns.heatmap((confusion*100).round(), cmap='Greys', annot=True, cbar=False, fmt='.0f', annot_kws=dict(size=16),\n",
    "            xticklabels=['IT', 'CT', 'ET'],\n",
    "           yticklabels=['IT', 'CT', 'ET'], square=True)\n",
    "plt.gca().set_yticklabels(['IT', 'CT', 'ET'], rotation=0)\n",
    "\n",
    "# plt.savefig('./pics/ICML/v3/Fig6/confusion_matrices_pyr_data_dm.svg', format='svg')"
   ]
  },
  {
   "cell_type": "markdown",
   "metadata": {},
   "source": [
    "# based on m type labels"
   ]
  },
  {
   "cell_type": "code",
   "execution_count": 30,
   "metadata": {},
   "outputs": [],
   "source": [
    "with open('./data/M1_exc_data/latent/m_labels/labels/train_labels.npy', 'rb') as f:\n",
    "    train_labels = np.load(f)\n",
    "\n",
    "with open('./data/M1_exc_data/latent/m_labels/labels/val_labels.npy', 'rb') as f:\n",
    "    val_labels = np.load(f)\n",
    "    \n",
    "with open('./data/M1_exc_data/latent/m_labels/labels/test_labels.npy', 'rb') as f:\n",
    "    test_labels = np.load(f)"
   ]
  },
  {
   "cell_type": "code",
   "execution_count": 31,
   "metadata": {},
   "outputs": [
    {
     "name": "stdout",
     "output_type": "stream",
     "text": [
      "On run 1 of model frac 1.0:\n",
      "Training score:  0.8875\n",
      "Test score:  0.7666666666666667\n",
      "On run 2 of model frac 1.0:\n",
      "Training score:  0.86875\n",
      "Test score:  0.7166666666666667\n",
      "On run 3 of model frac 1.0:\n",
      "Training score:  0.83125\n",
      "Test score:  0.7166666666666667\n",
      "On run 1 of model frac 0.0:\n",
      "Training score:  0.75\n",
      "Test score:  0.6666666666666666\n",
      "On run 2 of model frac 0.0:\n",
      "Training score:  0.75\n",
      "Test score:  0.65\n",
      "On run 3 of model frac 0.0:\n",
      "Training score:  0.75\n",
      "Test score:  0.6333333333333333\n"
     ]
    },
    {
     "data": {
      "image/png": "[encoded data removed]",
      "text/plain": [
       "<Figure size 432x144 with 2 Axes>"
      ]
     },
     "metadata": {},
     "output_type": "display_data"
    }
   ],
   "source": [
    "sns.set(font_scale=1.5)\n",
    "Cs = []\n",
    "fig, axes = plt.subplots(1,2,figsize=(6,2))\n",
    "for k, frac in enumerate([1., .0]): #[.9,.1]):\n",
    "    \n",
    "    confusion_matrices = []\n",
    "    for run in range(1,4):\n",
    "        with open('./data/M1_exc_data/latent/m_labels/neuron_latent_representation_frac_%.1f_run%i_train'%(frac, run), 'rb') as f:\n",
    "            train_data = np.load(f)\n",
    "\n",
    "          \n",
    "        with open('./data/M1_exc_data/latent/m_labels/neuron_latent_representation_frac_%.1f_run%i_test'%(frac, run), 'rb') as f:\n",
    "            test_data = np.load(f)\n",
    "        \n",
    "        k_nn = KNeighborsClassifier(n_neighbors=5)\n",
    "        k_nn.fit(train_data, train_labels)\n",
    "        \n",
    "        print('On run %i of model frac %.1f:'%(run,frac))\n",
    "        print('Training score: ', k_nn.score(train_data, train_labels))\n",
    "        print('Test score: ',  k_nn.score(test_data, test_labels))\n",
    "       \n",
    "        predicted_labels = k_nn.predict(test_data)\n",
    "        confusion = get_confusion_matrix(predicted_labels, test_labels)\n",
    "        confusion_matrices.append(np.expand_dims(confusion, -1))\n",
    "    confusion_matrices = np.concatenate(confusion_matrices, axis=-1)\n",
    "    avg_conf = confusion_matrices.sum(axis=-1)\n",
    "    avg_conf/=avg_conf.sum(axis=1).reshape(-1,1)\n",
    "    avg_conf *=100\n",
    "    Cs.append(confusion_matrices)\n",
    "    annotation = confusion_matrices.mean(axis=2).round(1)\n",
    "    sns.heatmap(avg_conf.round(), cmap='Greys', annot=annotation, cbar=False, fmt='.0f', annot_kws=dict(size=16),\n",
    "            xticklabels=['Tu.', 'Un.', 'Ot.'], square=True,\n",
    "           yticklabels=['Tufted', 'Untufted', 'Other'], ax=axes[k])\n",
    "    axes[k].set_yticklabels(['Tufted', 'Untufted', 'Other'], rotation=0)\n",
    "fig.subplots_adjust( wspace=.5)\n",
    "# plt.savefig('./pics/ICML/v5/Fig7/confusion_matrices_pyr_data_mtype_labels.svg', format='svg')"
   ]
  },
  {
   "cell_type": "code",
   "execution_count": 17,
   "metadata": {},
   "outputs": [],
   "source": []
  },
  {
   "cell_type": "code",
   "execution_count": 41,
   "metadata": {},
   "outputs": [],
   "source": [
    "# confusion matrix for m- labels\n",
    "\n",
    "### load in density maps\n",
    "\n",
    "with open('./data/M1_exc_data/density_map/individual/xz_dm_7pcs_train_c3.npy', 'rb') as f:\n",
    "    train_data_dm = np.load(f)\n",
    "\n",
    "with open('./data/M1_exc_data/density_map/individual/xz_dm_7pcs_test_c3.npy', 'rb') as f:\n",
    "    test_data_dm = np.load(f)\n",
    "    \n",
    "with open('./data/M1_exc_data/density_map/labels/m_train_labels.npy', 'rb') as f:\n",
    "    train_labels = np.load(f,allow_pickle=True)\n",
    "    \n",
    "with open('./data/M1_exc_data/density_map/labels/m_test_labels.npy', 'rb') as f:\n",
    "    test_labels = np.load(f,allow_pickle=True)"
   ]
  },
  {
   "cell_type": "code",
   "execution_count": 42,
   "metadata": {},
   "outputs": [
    {
     "data": {
      "text/plain": [
       "(160, 7)"
      ]
     },
     "execution_count": 42,
     "metadata": {},
     "output_type": "execute_result"
    }
   ],
   "source": [
    "train_data_dm.shape"
   ]
  },
  {
   "cell_type": "code",
   "execution_count": 43,
   "metadata": {},
   "outputs": [],
   "source": [
    "k_nn = KNeighborsClassifier(n_neighbors=5)\n",
    "k_nn.fit(train_data_dm, train_labels)\n",
    "predicted_labels_dm = k_nn.predict(test_data_dm)\n",
    "\n",
    "confusion = get_confusion_matrix(predicted_labels_dm, test_labels)\n",
    "avg_conf = (confusion / confusion.sum(axis=1).reshape(-1,1))*100"
   ]
  },
  {
   "cell_type": "code",
   "execution_count": 44,
   "metadata": {},
   "outputs": [
    {
     "data": {
      "text/plain": [
       "array([[16., 14.,  3.],\n",
       "       [ 3., 14.,  4.],\n",
       "       [ 1.,  2.,  3.]])"
      ]
     },
     "execution_count": 44,
     "metadata": {},
     "output_type": "execute_result"
    }
   ],
   "source": [
    "confusion"
   ]
  },
  {
   "cell_type": "code",
   "execution_count": 45,
   "metadata": {},
   "outputs": [
    {
     "data": {
      "text/plain": [
       "[Text(0, 0.5, 'Tufted'), Text(0, 1.5, 'Untufted'), Text(0, 2.5, 'Other')]"
      ]
     },
     "execution_count": 45,
     "metadata": {},
     "output_type": "execute_result"
    },
    {
     "data": {
      "image/png": "[encoded data removed]",
      "text/plain": [
       "<Figure size 144x144 with 1 Axes>"
      ]
     },
     "metadata": {},
     "output_type": "display_data"
    }
   ],
   "source": [
    "fig = plt.figure(figsize=(2,2))\n",
    "sns.heatmap(avg_conf.round(), cmap='Greys', annot=confusion, cbar=False, fmt='.0f', annot_kws=dict(size=16),\n",
    "            xticklabels=['Tu.', 'Un.', 'Ot.'],\n",
    "           yticklabels=['Tufted', 'Untufted', 'Other'], square=True)\n",
    "plt.gca().set_yticklabels(['Tufted', 'Untufted', 'Other'], rotation=0)\n"
   ]
  },
  {
   "cell_type": "code",
   "execution_count": 33,
   "metadata": {
    "scrolled": false
   },
   "outputs": [
    {
     "data": {
      "image/png": "[encoded data removed]",
      "text/plain": [
       "<Figure size 144x144 with 1 Axes>"
      ]
     },
     "metadata": {},
     "output_type": "display_data"
    }
   ],
   "source": [
    "fig = plt.figure(figsize=(2,2))\n",
    "sns.heatmap(avg_conf.round(), cmap='Greys', annot=confusion, cbar=False, fmt='.0f', annot_kws=dict(size=16),\n",
    "            xticklabels=['Tu.', 'Un.', 'Ot.'],\n",
    "           yticklabels=['Tufted', 'Untufted', 'Other'], square=True)\n",
    "plt.gca().set_yticklabels(['Tufted', 'Untufted', 'Other'], rotation=0)\n",
    "\n",
    "plt.savefig('./pics/ICML/v5/Fig7/confusion_matrices_pyr_data_dm_mtype_labels.svg', format='svg')"
   ]
  },
  {
   "cell_type": "markdown",
   "metadata": {},
   "source": [
    "# Build a dataframe with the classification data\n",
    "## toy data"
   ]
  },
  {
   "cell_type": "code",
   "execution_count": 3,
   "metadata": {},
   "outputs": [],
   "source": [
    "import pandas as pd"
   ]
  },
  {
   "cell_type": "code",
   "execution_count": 4,
   "metadata": {},
   "outputs": [],
   "source": [
    "with open('./data/toy_data/3_populations/latent/k500/labels/train_labels.npy', 'rb') as f:\n",
    "    train_labels = np.load(f)\n",
    "    \n",
    "with open('./data/toy_data/3_populations/latent/k500/labels/test_labels.npy', 'rb') as f:\n",
    "    test_labels = np.load(f)"
   ]
  },
  {
   "cell_type": "code",
   "execution_count": 5,
   "metadata": {},
   "outputs": [],
   "source": [
    "df = pd.DataFrame()\n",
    "population_dict={0:'P1', 1:'P2', 2:'P3'}\n",
    "for k, frac in enumerate([1.,.9,.5,.1,.0]):\n",
    "    \n",
    "    for run in range(1,4):\n",
    "        with open('./data/toy_data/3_populations/latent/k500/neuron_latent_representation_frac_%.1f_run%i_train'%(frac, run), 'rb') as f:\n",
    "            train_data = np.load(f)\n",
    "\n",
    "        with open('./data/toy_data/3_populations/latent/k500/neuron_latent_representation_frac_%.1f_run%i_test'%(frac, run), 'rb') as f:\n",
    "            test_data = np.load(f)\n",
    "        \n",
    "        k_nn = KNeighborsClassifier(n_neighbors=5)\n",
    "        k_nn.fit(train_data, train_labels)\n",
    "        \n",
    "        predicted_labels = k_nn.predict(test_data)\n",
    "        conf = get_confusion_matrix(predicted_labels, test_labels)\n",
    "        \n",
    "        for l in np.unique(train_labels):\n",
    "            \n",
    "            acc=tp(conf,l)/(tp(conf,l)+fn(conf,l))\n",
    "            \n",
    "            d = dict(Representation='r_T', Param=frac, Ds='Toy', Accuracy=acc, \n",
    "                     Population=population_dict[l], Run=run)\n",
    "            df = df.append(d, ignore_index=True)"
   ]
  },
  {
   "cell_type": "markdown",
   "metadata": {},
   "source": [
    "### add density maps"
   ]
  },
  {
   "cell_type": "code",
   "execution_count": 6,
   "metadata": {},
   "outputs": [],
   "source": [
    "import os\n",
    "path ='./data/toy_data/3_populations/density_map/'\n",
    "# root, _ , files = list(os.walk(path))[0]\n",
    "\n",
    "dm_files = ['xy_dm_105pcs',\n",
    "            'xy_dm_26pcs',\n",
    "            'xy_dm_10pcs']\n",
    "\n"
   ]
  },
  {
   "cell_type": "code",
   "execution_count": 7,
   "metadata": {},
   "outputs": [],
   "source": [
    "with open('./data/toy_data/3_populations/density_map/labels/train_labels.npy', 'rb') as f:\n",
    "    train_labels = np.load(f).astype(int)\n",
    "with open('./data/toy_data/3_populations/density_map/labels/test_labels.npy', 'rb') as f:\n",
    "    test_labels = np.load(f).astype(int)"
   ]
  },
  {
   "cell_type": "code",
   "execution_count": 8,
   "metadata": {},
   "outputs": [],
   "source": [
    "for k, filename in enumerate(dm_files):\n",
    "    with open(path + filename + '_train_c%i.npy'%(k+1), 'rb') as f:\n",
    "        train_data = np.load(f)\n",
    "\n",
    "    with open(path + filename + '_test_c%i.npy'%(k+1), 'rb') as f:\n",
    "        test_data = np.load(f)\n",
    "\n",
    "    k_nn = KNeighborsClassifier(n_neighbors=5)\n",
    "    k_nn.fit(train_data, train_labels)\n",
    "\n",
    "    predicted_labels = k_nn.predict(test_data)\n",
    "    conf = get_confusion_matrix(predicted_labels, test_labels)\n",
    "\n",
    "    if k == 0 :\n",
    "        sigma = .5\n",
    "    elif k == 1:\n",
    "        sigma = 1\n",
    "    elif k == 2:\n",
    "        sigma = 2\n",
    "    \n",
    "    for l in np.unique(train_labels):\n",
    "\n",
    "        acc=tp(conf,l)/(tp(conf,l)+fn(conf,l))\n",
    "\n",
    "        d = dict(Representation='DM', Param=sigma, Ds='Toy', Accuracy=acc, \n",
    "                 Population=population_dict[l])\n",
    "        df = df.append(d, ignore_index=True)"
   ]
  },
  {
   "cell_type": "markdown",
   "metadata": {},
   "source": [
    "# EXC data\n",
    "\n",
    "### latent representation"
   ]
  },
  {
   "cell_type": "code",
   "execution_count": 9,
   "metadata": {},
   "outputs": [],
   "source": [
    "path = './data/M1_exc_data/latent/m_labels/'\n",
    "with open(path + 'labels/train_labels.npy', 'rb') as f:\n",
    "    train_labels = np.load(f)\n",
    "    \n",
    "with open(path + '/labels/test_labels.npy', 'rb') as f:\n",
    "    test_labels = np.load(f)"
   ]
  },
  {
   "cell_type": "code",
   "execution_count": 10,
   "metadata": {},
   "outputs": [],
   "source": [
    "population_dict={0:'Tufted', 1:'Untufted', 2:'Other'}\n",
    "for k, frac in enumerate([1.,.9,.5,.1,.0]):\n",
    "    \n",
    "    for run in range(1,4):\n",
    "        with open(path +'neuron_latent_representation_frac_%.1f_run%i_train'%(frac, run), 'rb') as f:\n",
    "            train_data = np.load(f)\n",
    "\n",
    "        with open(path + '/neuron_latent_representation_frac_%.1f_run%i_test'%(frac, run), 'rb') as f:\n",
    "            test_data = np.load(f)\n",
    "        \n",
    "        k_nn = KNeighborsClassifier(n_neighbors=5)\n",
    "        k_nn.fit(train_data, train_labels)\n",
    "        \n",
    "        predicted_labels = k_nn.predict(test_data)\n",
    "        conf = get_confusion_matrix(predicted_labels, test_labels)\n",
    "        \n",
    "        for l in np.unique(train_labels):\n",
    "            \n",
    "            acc=tp(conf,l)/(tp(conf,l)+fn(conf,l))\n",
    "            \n",
    "            d = dict(Representation='r_T', Param=frac, Ds='M1 EXC', Accuracy=acc, \n",
    "                     Population=population_dict[l], Run=run)\n",
    "            df = df.append(d, ignore_index=True)"
   ]
  },
  {
   "cell_type": "markdown",
   "metadata": {},
   "source": [
    "### Density maps"
   ]
  },
  {
   "cell_type": "code",
   "execution_count": 11,
   "metadata": {},
   "outputs": [],
   "source": [
    "path_dm ='./data/M1_exc_data/density_map/'\n",
    "# normalization = 'individual'\n",
    "# dm_files = ['xz_dm_64pcs', 'xz_dm_22pcs', 'xz_dm_7pcs']\n",
    "\n",
    "normalization = 'global' \n",
    "dm_files = ['xz_dm_40pcs', 'xz_dm_15pcs', 'xz_dm_5pcs']\n",
    "\n",
    "root, _ , files = list(os.walk(path_dm + normalization))[0]\n",
    "\n"
   ]
  },
  {
   "cell_type": "code",
   "execution_count": 12,
   "metadata": {},
   "outputs": [],
   "source": [
    "with open(path_dm + '/labels/m_train_labels.npy', 'rb') as f:\n",
    "    train_labels = np.load(f).astype(int)\n",
    "with open(path_dm + 'labels/m_test_labels.npy', 'rb') as f:\n",
    "    test_labels = np.load(f).astype(int)\n",
    "    \n",
    "for k, filename in enumerate(dm_files):\n",
    "    with open(path_dm + '%s/'%normalization + filename + '_train_c%i.npy'%(k+1), 'rb') as f:\n",
    "        train_data = np.load(f)\n",
    "\n",
    "    with open(path_dm + '%s/'%normalization + filename + '_test_c%i.npy'%(k+1), 'rb') as f:\n",
    "        test_data = np.load(f)\n",
    "\n",
    "    k_nn = KNeighborsClassifier(n_neighbors=5)\n",
    "    k_nn.fit(train_data, train_labels)\n",
    "\n",
    "    predicted_labels = k_nn.predict(test_data)\n",
    "    conf = get_confusion_matrix(predicted_labels, test_labels)\n",
    "\n",
    "    if k == 0 :\n",
    "        sigma = .5\n",
    "    elif k == 1:\n",
    "        sigma = 1\n",
    "    elif k == 2:\n",
    "        sigma = 2\n",
    "    \n",
    "    for l in np.unique(train_labels):\n",
    "\n",
    "        acc=tp(conf,l)/(tp(conf,l)+fn(conf,l))\n",
    "\n",
    "        d = dict(Representation='DM', Param=sigma, Ds='M1 EXC', Accuracy=acc, \n",
    "                 Population=population_dict[l])\n",
    "        df = df.append(d, ignore_index=True)"
   ]
  },
  {
   "cell_type": "markdown",
   "metadata": {},
   "source": [
    "# INH data axon\n",
    "\n",
    "### latent representation"
   ]
  },
  {
   "cell_type": "code",
   "execution_count": 40,
   "metadata": {},
   "outputs": [],
   "source": [
    "path = './data/M1_inh_data/latent/'\n",
    "part = 'axon'\n",
    "with open(path + 'labels/train_labels.npy', 'rb') as f:\n",
    "    train_labels = np.load(f)\n",
    "    \n",
    "with open(path + '/labels/test_labels.npy', 'rb') as f:\n",
    "    test_labels = np.load(f)\n",
    "    \n",
    "label_index_train = train_labels != -100\n",
    "label_index_test = test_labels != -100"
   ]
  },
  {
   "cell_type": "code",
   "execution_count": 14,
   "metadata": {},
   "outputs": [],
   "source": [
    "population_dict={0:'Sst', 1:'Pvalb', 2:'Vip', 3:'Lamp5'}\n",
    "for k, frac in enumerate([1.,.9,.5,.1,.0]):\n",
    "    \n",
    "    for run in range(1,4):\n",
    "        with open(path + part +'/finetuned/neuron_latent_representation_frac_%.1f_run%i_train'%(frac, run), 'rb') as f:\n",
    "            train_data = np.load(f)\n",
    "\n",
    "        with open(path + part+ '/finetuned/neuron_latent_representation_frac_%.1f_run%i_test'%(frac, run), 'rb') as f:\n",
    "            test_data = np.load(f)\n",
    "\n",
    "        k_nn = KNeighborsClassifier(n_neighbors=5)\n",
    "        k_nn.fit(train_data[label_index_train], train_labels[label_index_train])\n",
    "        \n",
    "        predicted_labels = k_nn.predict(test_data[label_index_test])\n",
    "        conf = get_confusion_matrix(predicted_labels, test_labels[label_index_test])\n",
    "        \n",
    "        for l in np.unique(train_labels[label_index_train]):\n",
    "            \n",
    "            acc=tp(conf,l)/(tp(conf,l)+fn(conf,l))\n",
    "            \n",
    "            d = dict(Representation='r_T', Param=frac, Ds='M1 INH', Accuracy=acc, \n",
    "                     Population=population_dict[l], Run=run)\n",
    "            df = df.append(d, ignore_index=True)"
   ]
  },
  {
   "cell_type": "markdown",
   "metadata": {},
   "source": [
    "### density maps"
   ]
  },
  {
   "cell_type": "code",
   "execution_count": 15,
   "metadata": {},
   "outputs": [],
   "source": [
    "path_dm ='./data/M1_inh_data/density_map/axon/'\n",
    "# normalization = 'individual'\n",
    "# dm_files = ['xz_dm_50pcs', 'xz_dm_13pcs', 'xz_dm_6pcs']\n",
    "\n",
    "normalization = 'global' \n",
    "dm_files = ['xz_dm_28pcs', 'xz_dm_9pcs', 'xz_dm_4pcs']\n",
    "\n",
    "root, _ , files = list(os.walk(path_dm + normalization))[0]\n"
   ]
  },
  {
   "cell_type": "code",
   "execution_count": 16,
   "metadata": {},
   "outputs": [],
   "source": [
    "with open(path_dm + '/labels/train_labels.npy', 'rb') as f:\n",
    "    train_labels = np.load(f).astype(int)\n",
    "with open(path_dm + 'labels/test_labels.npy', 'rb') as f:\n",
    "    test_labels = np.load(f).astype(int)\n",
    "\n",
    "label_index_train = train_labels != -100\n",
    "label_index_test = test_labels != -100\n",
    "\n",
    "for k, filename in enumerate(dm_files):\n",
    "    with open(path_dm + '%s/'%normalization + filename + '_train_c%i.npy'%(k+1), 'rb') as f:\n",
    "        train_data = np.load(f)\n",
    "\n",
    "    with open(path_dm + '%s/'%normalization + filename + '_test_c%i.npy'%(k+1), 'rb') as f:\n",
    "        test_data = np.load(f)\n",
    "\n",
    "    k_nn = KNeighborsClassifier(n_neighbors=5)\n",
    "    k_nn.fit(train_data[label_index_train], train_labels[label_index_train])\n",
    "        \n",
    "    predicted_labels = k_nn.predict(test_data[label_index_test])\n",
    "    conf = get_confusion_matrix(predicted_labels, test_labels[label_index_test])\n",
    "\n",
    "    if k == 0 :\n",
    "        sigma = .5\n",
    "    elif k == 1:\n",
    "        sigma = 1\n",
    "    elif k == 2:\n",
    "        sigma = 2\n",
    "    \n",
    "    for l in np.unique(train_labels[label_index_train]):\n",
    "\n",
    "        acc=tp(conf,l)/(tp(conf,l)+fn(conf,l))\n",
    "\n",
    "        d = dict(Representation='DM', Param=sigma, Ds='M1 INH', Accuracy=acc, \n",
    "                 Population=population_dict[l])\n",
    "        df = df.append(d, ignore_index=True)"
   ]
  },
  {
   "cell_type": "markdown",
   "metadata": {},
   "source": [
    "# Farrow data - soma centered\n",
    "\n",
    "### latent representation"
   ]
  },
  {
   "cell_type": "code",
   "execution_count": 17,
   "metadata": {},
   "outputs": [],
   "source": [
    "path = './data/Farrow_data/latent/soma_centered/'\n",
    "part = 'finetuned'\n",
    "with open(path + '/labels/train_labels.npy', 'rb') as f:\n",
    "    train_labels = np.load(f)\n",
    "    \n",
    "with open(path + '/labels/test_labels.npy', 'rb') as f:\n",
    "    test_labels = np.load(f)\n",
    "    \n",
    "label_index_train = train_labels != -100\n",
    "label_index_test = test_labels != -100"
   ]
  },
  {
   "cell_type": "code",
   "execution_count": 18,
   "metadata": {},
   "outputs": [],
   "source": [
    "population_dict = {-100:'no label', 13: '8n/9n', 12: 'sONα', 11: 'F-midi ON', \n",
    "              10: 'tONα', 9:'6sn', 8:'F-mini ON', 7:'HD1/HD2', \n",
    "              6:'5to', 5:'tOFFα', 4: 'mini tOFFα', 3: 'ON-OFF DS',\n",
    "             2: '27', 1:'F-mini-OFF', 0: 'sOFFα'}"
   ]
  },
  {
   "cell_type": "code",
   "execution_count": 19,
   "metadata": {},
   "outputs": [],
   "source": [
    "for k, frac in enumerate([1.,.9, .5, .0]):\n",
    "    \n",
    "    for run in range(1,4):\n",
    "        with open(path + part+ '/neuron_latent_representation_frac_%.1f_run%i_train'%(frac, run), 'rb') as f:\n",
    "            train_data = np.load(f)\n",
    "\n",
    "        with open(path + part + '/neuron_latent_representation_frac_%.1f_run%i_test'%(frac, run), 'rb') as f:\n",
    "            test_data = np.load(f)\n",
    "        \n",
    "        k_nn = KNeighborsClassifier(n_neighbors=5)\n",
    "        k_nn.fit(train_data[label_index_train], train_labels[label_index_train])\n",
    "        \n",
    "        predicted_labels = k_nn.predict(test_data[label_index_test])\n",
    "        conf = get_confusion_matrix(predicted_labels, test_labels[label_index_test])\n",
    "        \n",
    "        for l in np.unique(train_labels[label_index_train]):\n",
    "            \n",
    "            acc=tp(conf,l)/(tp(conf,l)+fn(conf,l))\n",
    "            \n",
    "            d = dict(Representation='r_T', Param=frac, Ds='RGC', Accuracy=acc, \n",
    "                     Population=population_dict[l], Run=run)\n",
    "            df = df.append(d, ignore_index=True)"
   ]
  },
  {
   "cell_type": "markdown",
   "metadata": {},
   "source": [
    "### density maps"
   ]
  },
  {
   "cell_type": "code",
   "execution_count": 20,
   "metadata": {},
   "outputs": [],
   "source": [
    "path_dm ='./data/Farrow_data/density_map/soma_centered/'\n",
    "\n",
    "dm_files = ['z_dm_6pcs', 'z_dm_4pcs', 'z_dm_3pcs']\n",
    "\n",
    "root, _ , files = list(os.walk(path_dm))[0]"
   ]
  },
  {
   "cell_type": "code",
   "execution_count": 21,
   "metadata": {},
   "outputs": [],
   "source": [
    "with open(path_dm + '/labels/train_labels.npy', 'rb') as f:\n",
    "    train_labels = np.load(f).astype(int)\n",
    "with open(path_dm + 'labels/test_labels.npy', 'rb') as f:\n",
    "    test_labels = np.load(f).astype(int)\n",
    "\n",
    "label_index_train = train_labels != -100\n",
    "label_index_test = test_labels != -100\n",
    "\n",
    "for k, filename in enumerate(dm_files):\n",
    "    with open(path_dm + filename + '_train_c%i.npy'%(k+1), 'rb') as f:\n",
    "        train_data = np.load(f)\n",
    "\n",
    "    with open(path_dm + filename + '_test_c%i.npy'%(k+1), 'rb') as f:\n",
    "        test_data = np.load(f)\n",
    "\n",
    "    k_nn = KNeighborsClassifier(n_neighbors=5)\n",
    "    k_nn.fit(train_data[label_index_train], train_labels[label_index_train])\n",
    "        \n",
    "    predicted_labels = k_nn.predict(test_data[label_index_test])\n",
    "    conf = get_confusion_matrix(predicted_labels, test_labels[label_index_test])\n",
    "\n",
    "    if k == 0 :\n",
    "        sigma = .5\n",
    "    elif k == 1:\n",
    "        sigma = 1\n",
    "    elif k == 2:\n",
    "        sigma = 2\n",
    "    \n",
    "    for l in np.unique(train_labels[label_index_train]):\n",
    "\n",
    "        acc=tp(conf,l)/(tp(conf,l)+fn(conf,l))\n",
    "\n",
    "        d = dict(Representation='DM', Param=sigma, Ds='RGC', Accuracy=acc, \n",
    "                 Population=population_dict[l])\n",
    "        df = df.append(d, ignore_index=True)"
   ]
  },
  {
   "cell_type": "code",
   "execution_count": 31,
   "metadata": {},
   "outputs": [
    {
     "data": {
      "text/html": [
       "<div>\n",
       "<style scoped>\n",
       "    .dataframe tbody tr th:only-of-type {\n",
       "        vertical-align: middle;\n",
       "    }\n",
       "\n",
       "    .dataframe tbody tr th {\n",
       "        vertical-align: top;\n",
       "    }\n",
       "\n",
       "    .dataframe thead th {\n",
       "        text-align: right;\n",
       "    }\n",
       "</style>\n",
       "<table border=\"1\" class=\"dataframe\">\n",
       "  <thead>\n",
       "    <tr style=\"text-align: right;\">\n",
       "      <th></th>\n",
       "      <th></th>\n",
       "      <th></th>\n",
       "      <th>Accuracy</th>\n",
       "    </tr>\n",
       "    <tr>\n",
       "      <th>Representation</th>\n",
       "      <th>Run</th>\n",
       "      <th>Param</th>\n",
       "      <th></th>\n",
       "    </tr>\n",
       "  </thead>\n",
       "  <tbody>\n",
       "    <tr>\n",
       "      <th rowspan=\"15\" valign=\"top\">r_T</th>\n",
       "      <th rowspan=\"5\" valign=\"top\">1.0</th>\n",
       "      <th>0.0</th>\n",
       "      <td>0.598846</td>\n",
       "    </tr>\n",
       "    <tr>\n",
       "      <th>0.1</th>\n",
       "      <td>0.382395</td>\n",
       "    </tr>\n",
       "    <tr>\n",
       "      <th>0.5</th>\n",
       "      <td>0.416306</td>\n",
       "    </tr>\n",
       "    <tr>\n",
       "      <th>0.9</th>\n",
       "      <td>0.392496</td>\n",
       "    </tr>\n",
       "    <tr>\n",
       "      <th>1.0</th>\n",
       "      <td>0.750361</td>\n",
       "    </tr>\n",
       "    <tr>\n",
       "      <th rowspan=\"5\" valign=\"top\">2.0</th>\n",
       "      <th>0.0</th>\n",
       "      <td>0.571429</td>\n",
       "    </tr>\n",
       "    <tr>\n",
       "      <th>0.1</th>\n",
       "      <td>0.424242</td>\n",
       "    </tr>\n",
       "    <tr>\n",
       "      <th>0.5</th>\n",
       "      <td>0.392496</td>\n",
       "    </tr>\n",
       "    <tr>\n",
       "      <th>0.9</th>\n",
       "      <td>0.370851</td>\n",
       "    </tr>\n",
       "    <tr>\n",
       "      <th>1.0</th>\n",
       "      <td>0.680375</td>\n",
       "    </tr>\n",
       "    <tr>\n",
       "      <th rowspan=\"5\" valign=\"top\">3.0</th>\n",
       "      <th>0.0</th>\n",
       "      <td>0.572872</td>\n",
       "    </tr>\n",
       "    <tr>\n",
       "      <th>0.1</th>\n",
       "      <td>0.505772</td>\n",
       "    </tr>\n",
       "    <tr>\n",
       "      <th>0.5</th>\n",
       "      <td>0.400433</td>\n",
       "    </tr>\n",
       "    <tr>\n",
       "      <th>0.9</th>\n",
       "      <td>0.380952</td>\n",
       "    </tr>\n",
       "    <tr>\n",
       "      <th>1.0</th>\n",
       "      <td>0.674603</td>\n",
       "    </tr>\n",
       "  </tbody>\n",
       "</table>\n",
       "</div>"
      ],
      "text/plain": [
       "                          Accuracy\n",
       "Representation Run Param          \n",
       "r_T            1.0 0.0    0.598846\n",
       "                   0.1    0.382395\n",
       "                   0.5    0.416306\n",
       "                   0.9    0.392496\n",
       "                   1.0    0.750361\n",
       "               2.0 0.0    0.571429\n",
       "                   0.1    0.424242\n",
       "                   0.5    0.392496\n",
       "                   0.9    0.370851\n",
       "                   1.0    0.680375\n",
       "               3.0 0.0    0.572872\n",
       "                   0.1    0.505772\n",
       "                   0.5    0.400433\n",
       "                   0.9    0.380952\n",
       "                   1.0    0.674603"
      ]
     },
     "execution_count": 31,
     "metadata": {},
     "output_type": "execute_result"
    }
   ],
   "source": [
    "df[df['Ds'] == 'M1 EXC'].groupby(['Representation', 'Run', 'Param']).mean()"
   ]
  },
  {
   "cell_type": "code",
   "execution_count": 23,
   "metadata": {
    "scrolled": false
   },
   "outputs": [
    {
     "data": {
      "text/html": [
       "<div>\n",
       "<style scoped>\n",
       "    .dataframe tbody tr th:only-of-type {\n",
       "        vertical-align: middle;\n",
       "    }\n",
       "\n",
       "    .dataframe tbody tr th {\n",
       "        vertical-align: top;\n",
       "    }\n",
       "\n",
       "    .dataframe thead th {\n",
       "        text-align: right;\n",
       "    }\n",
       "</style>\n",
       "<table border=\"1\" class=\"dataframe\">\n",
       "  <thead>\n",
       "    <tr style=\"text-align: right;\">\n",
       "      <th></th>\n",
       "      <th></th>\n",
       "      <th></th>\n",
       "      <th>Accuracy</th>\n",
       "    </tr>\n",
       "    <tr>\n",
       "      <th>Ds</th>\n",
       "      <th>Representation</th>\n",
       "      <th>Param</th>\n",
       "      <th></th>\n",
       "    </tr>\n",
       "  </thead>\n",
       "  <tbody>\n",
       "    <tr>\n",
       "      <th rowspan=\"8\" valign=\"top\">M1 EXC</th>\n",
       "      <th rowspan=\"3\" valign=\"top\">DM</th>\n",
       "      <th>0.5</th>\n",
       "      <td>0.49</td>\n",
       "    </tr>\n",
       "    <tr>\n",
       "      <th>1.0</th>\n",
       "      <td>0.60</td>\n",
       "    </tr>\n",
       "    <tr>\n",
       "      <th>2.0</th>\n",
       "      <td>0.52</td>\n",
       "    </tr>\n",
       "    <tr>\n",
       "      <th rowspan=\"5\" valign=\"top\">r_T</th>\n",
       "      <th>0.0</th>\n",
       "      <td>0.58</td>\n",
       "    </tr>\n",
       "    <tr>\n",
       "      <th>0.1</th>\n",
       "      <td>0.44</td>\n",
       "    </tr>\n",
       "    <tr>\n",
       "      <th>0.5</th>\n",
       "      <td>0.40</td>\n",
       "    </tr>\n",
       "    <tr>\n",
       "      <th>0.9</th>\n",
       "      <td>0.38</td>\n",
       "    </tr>\n",
       "    <tr>\n",
       "      <th>1.0</th>\n",
       "      <td>0.70</td>\n",
       "    </tr>\n",
       "    <tr>\n",
       "      <th rowspan=\"8\" valign=\"top\">M1 INH</th>\n",
       "      <th rowspan=\"3\" valign=\"top\">DM</th>\n",
       "      <th>0.5</th>\n",
       "      <td>0.56</td>\n",
       "    </tr>\n",
       "    <tr>\n",
       "      <th>1.0</th>\n",
       "      <td>0.66</td>\n",
       "    </tr>\n",
       "    <tr>\n",
       "      <th>2.0</th>\n",
       "      <td>0.61</td>\n",
       "    </tr>\n",
       "    <tr>\n",
       "      <th rowspan=\"5\" valign=\"top\">r_T</th>\n",
       "      <th>0.0</th>\n",
       "      <td>0.52</td>\n",
       "    </tr>\n",
       "    <tr>\n",
       "      <th>0.1</th>\n",
       "      <td>0.49</td>\n",
       "    </tr>\n",
       "    <tr>\n",
       "      <th>0.5</th>\n",
       "      <td>0.56</td>\n",
       "    </tr>\n",
       "    <tr>\n",
       "      <th>0.9</th>\n",
       "      <td>0.52</td>\n",
       "    </tr>\n",
       "    <tr>\n",
       "      <th>1.0</th>\n",
       "      <td>0.51</td>\n",
       "    </tr>\n",
       "    <tr>\n",
       "      <th rowspan=\"7\" valign=\"top\">RGC</th>\n",
       "      <th rowspan=\"3\" valign=\"top\">DM</th>\n",
       "      <th>0.5</th>\n",
       "      <td>0.51</td>\n",
       "    </tr>\n",
       "    <tr>\n",
       "      <th>1.0</th>\n",
       "      <td>0.53</td>\n",
       "    </tr>\n",
       "    <tr>\n",
       "      <th>2.0</th>\n",
       "      <td>0.39</td>\n",
       "    </tr>\n",
       "    <tr>\n",
       "      <th rowspan=\"4\" valign=\"top\">r_T</th>\n",
       "      <th>0.0</th>\n",
       "      <td>0.33</td>\n",
       "    </tr>\n",
       "    <tr>\n",
       "      <th>0.5</th>\n",
       "      <td>0.49</td>\n",
       "    </tr>\n",
       "    <tr>\n",
       "      <th>0.9</th>\n",
       "      <td>0.51</td>\n",
       "    </tr>\n",
       "    <tr>\n",
       "      <th>1.0</th>\n",
       "      <td>0.47</td>\n",
       "    </tr>\n",
       "    <tr>\n",
       "      <th rowspan=\"8\" valign=\"top\">Toy</th>\n",
       "      <th rowspan=\"3\" valign=\"top\">DM</th>\n",
       "      <th>0.5</th>\n",
       "      <td>0.86</td>\n",
       "    </tr>\n",
       "    <tr>\n",
       "      <th>1.0</th>\n",
       "      <td>0.90</td>\n",
       "    </tr>\n",
       "    <tr>\n",
       "      <th>2.0</th>\n",
       "      <td>0.90</td>\n",
       "    </tr>\n",
       "    <tr>\n",
       "      <th rowspan=\"5\" valign=\"top\">r_T</th>\n",
       "      <th>0.0</th>\n",
       "      <td>0.94</td>\n",
       "    </tr>\n",
       "    <tr>\n",
       "      <th>0.1</th>\n",
       "      <td>0.94</td>\n",
       "    </tr>\n",
       "    <tr>\n",
       "      <th>0.5</th>\n",
       "      <td>0.95</td>\n",
       "    </tr>\n",
       "    <tr>\n",
       "      <th>0.9</th>\n",
       "      <td>0.97</td>\n",
       "    </tr>\n",
       "    <tr>\n",
       "      <th>1.0</th>\n",
       "      <td>0.98</td>\n",
       "    </tr>\n",
       "  </tbody>\n",
       "</table>\n",
       "</div>"
      ],
      "text/plain": [
       "                             Accuracy\n",
       "Ds     Representation Param          \n",
       "M1 EXC DM             0.5        0.49\n",
       "                      1.0        0.60\n",
       "                      2.0        0.52\n",
       "       r_T            0.0        0.58\n",
       "                      0.1        0.44\n",
       "                      0.5        0.40\n",
       "                      0.9        0.38\n",
       "                      1.0        0.70\n",
       "M1 INH DM             0.5        0.56\n",
       "                      1.0        0.66\n",
       "                      2.0        0.61\n",
       "       r_T            0.0        0.52\n",
       "                      0.1        0.49\n",
       "                      0.5        0.56\n",
       "                      0.9        0.52\n",
       "                      1.0        0.51\n",
       "RGC    DM             0.5        0.51\n",
       "                      1.0        0.53\n",
       "                      2.0        0.39\n",
       "       r_T            0.0        0.33\n",
       "                      0.5        0.49\n",
       "                      0.9        0.51\n",
       "                      1.0        0.47\n",
       "Toy    DM             0.5        0.86\n",
       "                      1.0        0.90\n",
       "                      2.0        0.90\n",
       "       r_T            0.0        0.94\n",
       "                      0.1        0.94\n",
       "                      0.5        0.95\n",
       "                      0.9        0.97\n",
       "                      1.0        0.98"
      ]
     },
     "execution_count": 23,
     "metadata": {},
     "output_type": "execute_result"
    }
   ],
   "source": [
    "aggr = df.groupby(['Ds', 'Representation','Param']).mean().round(2)\n",
    "aggr = aggr[['Accuracy']]\n",
    "aggr"
   ]
  },
  {
   "cell_type": "code",
   "execution_count": 29,
   "metadata": {},
   "outputs": [
    {
     "data": {
      "text/html": [
       "<div>\n",
       "<style scoped>\n",
       "    .dataframe tbody tr th:only-of-type {\n",
       "        vertical-align: middle;\n",
       "    }\n",
       "\n",
       "    .dataframe tbody tr th {\n",
       "        vertical-align: top;\n",
       "    }\n",
       "\n",
       "    .dataframe thead th {\n",
       "        text-align: right;\n",
       "    }\n",
       "</style>\n",
       "<table border=\"1\" class=\"dataframe\">\n",
       "  <thead>\n",
       "    <tr style=\"text-align: right;\">\n",
       "      <th></th>\n",
       "      <th></th>\n",
       "      <th></th>\n",
       "      <th>Accuracy</th>\n",
       "    </tr>\n",
       "    <tr>\n",
       "      <th>Ds</th>\n",
       "      <th>Representation</th>\n",
       "      <th>Param</th>\n",
       "      <th></th>\n",
       "    </tr>\n",
       "  </thead>\n",
       "  <tbody>\n",
       "    <tr>\n",
       "      <th rowspan=\"8\" valign=\"top\">M1 EXC</th>\n",
       "      <th rowspan=\"3\" valign=\"top\">DM</th>\n",
       "      <th>0.5</th>\n",
       "      <td>0.22</td>\n",
       "    </tr>\n",
       "    <tr>\n",
       "      <th>1.0</th>\n",
       "      <td>0.18</td>\n",
       "    </tr>\n",
       "    <tr>\n",
       "      <th>2.0</th>\n",
       "      <td>0.13</td>\n",
       "    </tr>\n",
       "    <tr>\n",
       "      <th rowspan=\"5\" valign=\"top\">r_T</th>\n",
       "      <th>0.0</th>\n",
       "      <td>0.07</td>\n",
       "    </tr>\n",
       "    <tr>\n",
       "      <th>0.1</th>\n",
       "      <td>0.10</td>\n",
       "    </tr>\n",
       "    <tr>\n",
       "      <th>0.5</th>\n",
       "      <td>0.08</td>\n",
       "    </tr>\n",
       "    <tr>\n",
       "      <th>0.9</th>\n",
       "      <td>0.10</td>\n",
       "    </tr>\n",
       "    <tr>\n",
       "      <th>1.0</th>\n",
       "      <td>0.05</td>\n",
       "    </tr>\n",
       "    <tr>\n",
       "      <th rowspan=\"8\" valign=\"top\">M1 INH</th>\n",
       "      <th rowspan=\"3\" valign=\"top\">DM</th>\n",
       "      <th>0.5</th>\n",
       "      <td>0.09</td>\n",
       "    </tr>\n",
       "    <tr>\n",
       "      <th>1.0</th>\n",
       "      <td>0.10</td>\n",
       "    </tr>\n",
       "    <tr>\n",
       "      <th>2.0</th>\n",
       "      <td>0.15</td>\n",
       "    </tr>\n",
       "    <tr>\n",
       "      <th rowspan=\"5\" valign=\"top\">r_T</th>\n",
       "      <th>0.0</th>\n",
       "      <td>0.07</td>\n",
       "    </tr>\n",
       "    <tr>\n",
       "      <th>0.1</th>\n",
       "      <td>0.09</td>\n",
       "    </tr>\n",
       "    <tr>\n",
       "      <th>0.5</th>\n",
       "      <td>0.08</td>\n",
       "    </tr>\n",
       "    <tr>\n",
       "      <th>0.9</th>\n",
       "      <td>0.07</td>\n",
       "    </tr>\n",
       "    <tr>\n",
       "      <th>1.0</th>\n",
       "      <td>0.06</td>\n",
       "    </tr>\n",
       "    <tr>\n",
       "      <th rowspan=\"7\" valign=\"top\">RGC</th>\n",
       "      <th rowspan=\"3\" valign=\"top\">DM</th>\n",
       "      <th>0.5</th>\n",
       "      <td>0.10</td>\n",
       "    </tr>\n",
       "    <tr>\n",
       "      <th>1.0</th>\n",
       "      <td>0.10</td>\n",
       "    </tr>\n",
       "    <tr>\n",
       "      <th>2.0</th>\n",
       "      <td>0.11</td>\n",
       "    </tr>\n",
       "    <tr>\n",
       "      <th rowspan=\"4\" valign=\"top\">r_T</th>\n",
       "      <th>0.0</th>\n",
       "      <td>0.05</td>\n",
       "    </tr>\n",
       "    <tr>\n",
       "      <th>0.5</th>\n",
       "      <td>0.06</td>\n",
       "    </tr>\n",
       "    <tr>\n",
       "      <th>0.9</th>\n",
       "      <td>0.06</td>\n",
       "    </tr>\n",
       "    <tr>\n",
       "      <th>1.0</th>\n",
       "      <td>0.05</td>\n",
       "    </tr>\n",
       "    <tr>\n",
       "      <th rowspan=\"8\" valign=\"top\">Toy</th>\n",
       "      <th rowspan=\"3\" valign=\"top\">DM</th>\n",
       "      <th>0.5</th>\n",
       "      <td>0.07</td>\n",
       "    </tr>\n",
       "    <tr>\n",
       "      <th>1.0</th>\n",
       "      <td>0.06</td>\n",
       "    </tr>\n",
       "    <tr>\n",
       "      <th>2.0</th>\n",
       "      <td>0.04</td>\n",
       "    </tr>\n",
       "    <tr>\n",
       "      <th rowspan=\"5\" valign=\"top\">r_T</th>\n",
       "      <th>0.0</th>\n",
       "      <td>0.02</td>\n",
       "    </tr>\n",
       "    <tr>\n",
       "      <th>0.1</th>\n",
       "      <td>0.02</td>\n",
       "    </tr>\n",
       "    <tr>\n",
       "      <th>0.5</th>\n",
       "      <td>0.01</td>\n",
       "    </tr>\n",
       "    <tr>\n",
       "      <th>0.9</th>\n",
       "      <td>0.00</td>\n",
       "    </tr>\n",
       "    <tr>\n",
       "      <th>1.0</th>\n",
       "      <td>0.00</td>\n",
       "    </tr>\n",
       "  </tbody>\n",
       "</table>\n",
       "</div>"
      ],
      "text/plain": [
       "                             Accuracy\n",
       "Ds     Representation Param          \n",
       "M1 EXC DM             0.5        0.22\n",
       "                      1.0        0.18\n",
       "                      2.0        0.13\n",
       "       r_T            0.0        0.07\n",
       "                      0.1        0.10\n",
       "                      0.5        0.08\n",
       "                      0.9        0.10\n",
       "                      1.0        0.05\n",
       "M1 INH DM             0.5        0.09\n",
       "                      1.0        0.10\n",
       "                      2.0        0.15\n",
       "       r_T            0.0        0.07\n",
       "                      0.1        0.09\n",
       "                      0.5        0.08\n",
       "                      0.9        0.07\n",
       "                      1.0        0.06\n",
       "RGC    DM             0.5        0.10\n",
       "                      1.0        0.10\n",
       "                      2.0        0.11\n",
       "       r_T            0.0        0.05\n",
       "                      0.5        0.06\n",
       "                      0.9        0.06\n",
       "                      1.0        0.05\n",
       "Toy    DM             0.5        0.07\n",
       "                      1.0        0.06\n",
       "                      2.0        0.04\n",
       "       r_T            0.0        0.02\n",
       "                      0.1        0.02\n",
       "                      0.5        0.01\n",
       "                      0.9        0.00\n",
       "                      1.0        0.00"
      ]
     },
     "execution_count": 29,
     "metadata": {},
     "output_type": "execute_result"
    }
   ],
   "source": [
    "sem = df.groupby(['Ds', 'Representation','Param']).sem().round(2)\n",
    "sem = sem[['Accuracy']]\n",
    "sem"
   ]
  },
  {
   "cell_type": "code",
   "execution_count": 24,
   "metadata": {},
   "outputs": [],
   "source": [
    "index = [   (   'Toy', 'r_T', 1.0),\n",
    "            (   'Toy',  'DM', 2.0),\n",
    "            ('M1 EXC', 'r_T', 1.0),        \n",
    "            ('M1 EXC',  'DM', 1.0),   \n",
    "            ('M1 INH', 'r_T', 0.5), \n",
    "            ('M1 INH',  'DM', 1.0),\n",
    "            (   'RGC',  'r_T', 0.9), \n",
    "            (   'RGC',  'DM', 1.)\n",
    "           ]"
   ]
  },
  {
   "cell_type": "code",
   "execution_count": 25,
   "metadata": {
    "scrolled": true
   },
   "outputs": [
    {
     "name": "stdout",
     "output_type": "stream",
     "text": [
      "\\begin{tabular}{lllr}\n",
      "\\toprule\n",
      "    &    &     &  Accuracy \\\\\n",
      "Ds & Representation & Param &           \\\\\n",
      "\\midrule\n",
      "Toy & r\\_T & 1.0 &      0.98 \\\\\n",
      "    & DM & 2.0 &      0.90 \\\\\n",
      "M1 EXC & r\\_T & 1.0 &      0.70 \\\\\n",
      "    & DM & 1.0 &      0.60 \\\\\n",
      "M1 INH & r\\_T & 0.5 &      0.56 \\\\\n",
      "    & DM & 1.0 &      0.66 \\\\\n",
      "RGC & r\\_T & 0.9 &      0.51 \\\\\n",
      "    & DM & 1.0 &      0.53 \\\\\n",
      "\\bottomrule\n",
      "\\end{tabular}\n",
      "\n"
     ]
    }
   ],
   "source": [
    "print(aggr.loc[index].to_latex())"
   ]
  },
  {
   "cell_type": "code",
   "execution_count": 28,
   "metadata": {
    "scrolled": true
   },
   "outputs": [
    {
     "name": "stdout",
     "output_type": "stream",
     "text": [
      "\\begin{tabular}{lllr}\n",
      "\\toprule\n",
      "    &    &     &  Accuracy \\\\\n",
      "Ds & Representation & Param &           \\\\\n",
      "\\midrule\n",
      "Toy & r\\_T & 1.0 &      0.00 \\\\\n",
      "    & DM & 2.0 &      0.04 \\\\\n",
      "M1 EXC & r\\_T & 1.0 &      0.05 \\\\\n",
      "    & DM & 1.0 &      0.18 \\\\\n",
      "M1 INH & r\\_T & 0.5 &      0.08 \\\\\n",
      "    & DM & 1.0 &      0.10 \\\\\n",
      "RGC & r\\_T & 0.9 &      0.06 \\\\\n",
      "    & DM & 1.0 &      0.10 \\\\\n",
      "\\bottomrule\n",
      "\\end{tabular}\n",
      "\n"
     ]
    }
   ],
   "source": [
    "err = df.groupby(['Ds', 'Representation','Param']).sem().round(2)\n",
    "err = err[['Accuracy']]\n",
    "\n",
    "print(err.loc[index].to_latex())"
   ]
  }
 ],
 "metadata": {
  "kernelspec": {
   "display_name": "Python 3",
   "language": "python",
   "name": "python3"
  },
  "language_info": {
   "codemirror_mode": {
    "name": "ipython",
    "version": 3
   },
   "file_extension": ".py",
   "mimetype": "text/x-python",
   "name": "python",
   "nbconvert_exporter": "python",
   "pygments_lexer": "ipython3",
   "version": "3.7.5"
  }
 },
 "nbformat": 4,
 "nbformat_minor": 4
}
