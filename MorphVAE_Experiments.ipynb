{
 "cells": [
  {
   "cell_type": "code",
   "execution_count": 2,
   "metadata": {
    "id": "MTp7G4TK72yc"
   },
   "outputs": [],
   "source": [
    "import torch\n",
    "import torch.nn as nn\n",
    "import torch.nn.functional as F\n",
    "import pandas as pd\n",
    "import matplotlib.pyplot as plt\n",
    "import numpy as np"
   ]
  },
  {
   "cell_type": "code",
   "execution_count": 3,
   "metadata": {
    "colab": {
     "base_uri": "https://localhost:8080/"
    },
    "id": "_hmwWpG2-zL3",
    "outputId": "16be72ab-c9ae-44ce-a4bb-90a69c48685d"
   },
   "outputs": [
    {
     "name": "stdout",
     "output_type": "stream",
     "text": [
      "Requirement already satisfied: morphopy in ./env/lib/python3.11/site-packages (0.7.2)\n",
      "Requirement already satisfied: matplotlib in ./env/lib/python3.11/site-packages (from morphopy) (3.8.1)\n",
      "Requirement already satisfied: matplotlib-scalebar in ./env/lib/python3.11/site-packages (from morphopy) (0.8.1)\n",
      "Requirement already satisfied: numpy in ./env/lib/python3.11/site-packages (from morphopy) (1.26.1)\n",
      "Requirement already satisfied: scipy in ./env/lib/python3.11/site-packages (from morphopy) (1.11.3)\n",
      "Requirement already satisfied: pandas in ./env/lib/python3.11/site-packages (from morphopy) (2.1.2)\n",
      "Requirement already satisfied: plotly in ./env/lib/python3.11/site-packages (from morphopy) (5.18.0)\n",
      "Requirement already satisfied: networkx in ./env/lib/python3.11/site-packages (from morphopy) (3.2.1)\n",
      "Requirement already satisfied: seaborn in ./env/lib/python3.11/site-packages (from morphopy) (0.13.0)\n",
      "Requirement already satisfied: scikit-learn in ./env/lib/python3.11/site-packages (from morphopy) (1.3.2)\n",
      "Requirement already satisfied: shapely in ./env/lib/python3.11/site-packages (from morphopy) (2.0.2)\n",
      "Requirement already satisfied: contourpy>=1.0.1 in ./env/lib/python3.11/site-packages (from matplotlib->morphopy) (1.2.0)\n",
      "Requirement already satisfied: cycler>=0.10 in ./env/lib/python3.11/site-packages (from matplotlib->morphopy) (0.12.1)\n",
      "Requirement already satisfied: fonttools>=4.22.0 in ./env/lib/python3.11/site-packages (from matplotlib->morphopy) (4.44.0)\n",
      "Requirement already satisfied: kiwisolver>=1.3.1 in ./env/lib/python3.11/site-packages (from matplotlib->morphopy) (1.4.5)\n",
      "Requirement already satisfied: packaging>=20.0 in ./env/lib/python3.11/site-packages (from matplotlib->morphopy) (23.2)\n",
      "Requirement already satisfied: pillow>=8 in ./env/lib/python3.11/site-packages (from matplotlib->morphopy) (10.1.0)\n",
      "Requirement already satisfied: pyparsing>=2.3.1 in ./env/lib/python3.11/site-packages (from matplotlib->morphopy) (3.1.1)\n",
      "Requirement already satisfied: python-dateutil>=2.7 in ./env/lib/python3.11/site-packages (from matplotlib->morphopy) (2.8.2)\n",
      "Requirement already satisfied: pytz>=2020.1 in ./env/lib/python3.11/site-packages (from pandas->morphopy) (2023.3.post1)\n",
      "Requirement already satisfied: tzdata>=2022.1 in ./env/lib/python3.11/site-packages (from pandas->morphopy) (2023.3)\n",
      "Requirement already satisfied: tenacity>=6.2.0 in ./env/lib/python3.11/site-packages (from plotly->morphopy) (8.2.3)\n",
      "Requirement already satisfied: joblib>=1.1.1 in ./env/lib/python3.11/site-packages (from scikit-learn->morphopy) (1.3.2)\n",
      "Requirement already satisfied: threadpoolctl>=2.0.0 in ./env/lib/python3.11/site-packages (from scikit-learn->morphopy) (3.2.0)\n",
      "Requirement already satisfied: six>=1.5 in ./env/lib/python3.11/site-packages (from python-dateutil>=2.7->matplotlib->morphopy) (1.16.0)\n",
      "\n",
      "\u001b[1m[\u001b[0m\u001b[34;49mnotice\u001b[0m\u001b[1;39;49m]\u001b[0m\u001b[39;49m A new release of pip is available: \u001b[0m\u001b[31;49m23.1.2\u001b[0m\u001b[39;49m -> \u001b[0m\u001b[32;49m23.3.1\u001b[0m\n",
      "\u001b[1m[\u001b[0m\u001b[34;49mnotice\u001b[0m\u001b[1;39;49m]\u001b[0m\u001b[39;49m To update, run: \u001b[0m\u001b[32;49mpip install --upgrade pip\u001b[0m\n"
     ]
    }
   ],
   "source": [
    "!pip install morphopy"
   ]
  },
  {
   "cell_type": "code",
   "execution_count": 4,
   "metadata": {
    "colab": {
     "base_uri": "https://localhost:8080/"
    },
    "id": "iHSq70uW7_PM",
    "outputId": "2a3817f7-c897-4f5a-e271-ca9bfd9c6725"
   },
   "outputs": [
    {
     "data": {
      "text/plain": [
       "device(type='cuda')"
      ]
     },
     "execution_count": 4,
     "metadata": {},
     "output_type": "execute_result"
    }
   ],
   "source": [
    "device = torch.device('cuda' if torch.cuda.is_available() else 'cpu')\n",
    "\n",
    "device"
   ]
  },
  {
   "cell_type": "code",
   "execution_count": 5,
   "metadata": {
    "colab": {
     "base_uri": "https://localhost:8080/"
    },
    "id": "FD4h5YV4e-YD",
    "outputId": "77aaa00e-7dcc-457b-cbb9-558d3690943f"
   },
   "outputs": [
    {
     "name": "stdout",
     "output_type": "stream",
     "text": [
      "/home/pchaurasia/CodingWorkspace/work/morphvae\n"
     ]
    }
   ],
   "source": [
    "!pwd"
   ]
  },
  {
   "cell_type": "markdown",
   "metadata": {
    "id": "ZR4DpRPH8N3o"
   },
   "source": [
    "Experiment 1: Reproducing the model, getting a baseline using MorphVAE from the implementation listed here: [berenslab/morphvae](https://github.com/berenslab/morphvae/blob/master/models.py)"
   ]
  },
  {
   "cell_type": "code",
   "execution_count": 6,
   "metadata": {
    "colab": {
     "base_uri": "https://localhost:8080/"
    },
    "id": "3TB-5-moiWY5",
    "outputId": "1eecda76-03bc-4aa8-d8f0-21c615912986"
   },
   "outputs": [
    {
     "name": "stdout",
     "output_type": "stream",
     "text": [
      "/home/pchaurasia/CodingWorkspace/work/morphvae/data\n"
     ]
    }
   ],
   "source": [
    "#Initialize Parameters\n",
    "from pathlib import Path\n",
    "BASE_DRIVE_DIR = Path('./data').resolve()\n",
    "\n",
    "assert BASE_DRIVE_DIR.exists(), \"Error in base dir. Did you mount drive?\"\n",
    "print(BASE_DRIVE_DIR)\n",
    "\n",
    "SEED = 17\n",
    "device = torch.device('cuda' if torch.cuda.is_available() else 'cpu')"
   ]
  },
  {
   "cell_type": "markdown",
   "metadata": {
    "id": "w_a-cFZu-oLh"
   },
   "source": [
    "#Create toy data"
   ]
  },
  {
   "cell_type": "code",
   "execution_count": 7,
   "metadata": {
    "id": "PocEAc7f-qA4"
   },
   "outputs": [],
   "source": [
    "from utils.toy_data import generate_toy_data, plot_population_sample\n",
    "\n",
    "\n",
    "#If you run into any bugs, replace line 74 of training_utils with this:     bct = np.array(np.sum(nx.adjacency_matrix(T)[:, index_order][index_order, :].T, axis=0))[0]\n",
    "\n",
    "np.random.seed(17)\n",
    "population_parameter=[dict(N=400, V=199, lam=1, height=10, width=10, depth=10, directions=[2,4], min_degree=-50, max_degree=50),\n",
    "                       dict(N=400, V=199, lam=2, height=10, width=10,depth=10, directions=[2,4], min_degree=-50, max_degree=50),\n",
    "                      dict(N=400, V=199, lam=3, height=10, width=10,depth=10, directions=[2,4], min_degree=-80, max_degree=100)]\n",
    "_ , _ , neurons = generate_toy_data(population_parameter, with_pos=False)"
   ]
  },
  {
   "cell_type": "code",
   "execution_count": 8,
   "metadata": {
    "colab": {
     "base_uri": "https://localhost:8080/",
     "height": 233
    },
    "id": "29A7Ccrm-36j",
    "outputId": "e945aa7b-f077-408c-be77-3825042bda44"
   },
   "outputs": [
    {
     "data": {
      "image/png": "[encoded data removed]",
      "text/plain": [
       "<Figure size 900x300 with 1 Axes>"
      ]
     },
     "metadata": {},
     "output_type": "display_data"
    }
   ],
   "source": [
    "np.random.seed(11)\n",
    "fig = plot_population_sample(population_parameter, n_samples=3)\n",
    "fig.gca().set_aspect('equal')\n",
    "fig.gca().axis('off')\n",
    "fig.gca().plot([-7,-2],[-6,-6], c='k', linewidth=3)\n",
    "plt.tight_layout()"
   ]
  },
  {
   "cell_type": "code",
   "execution_count": 9,
   "metadata": {
    "colab": {
     "base_uri": "https://localhost:8080/",
     "height": 774
    },
    "id": "TEfGbKBkB_Lj",
    "outputId": "d291b543-3c8a-41f1-cd7b-50b0458e6505"
   },
   "outputs": [
    {
     "ename": "NotImplementedError",
     "evalue": "We have not yet implemented 1D sparse slices; please index using explicit indices, e.g. `x[:, [0]]`",
     "output_type": "error",
     "traceback": [
      "\u001b[0;31m---------------------------------------------------------------------------\u001b[0m",
      "\u001b[0;31mRemoteTraceback\u001b[0m                           Traceback (most recent call last)",
      "\u001b[0;31mRemoteTraceback\u001b[0m: \n\"\"\"\nTraceback (most recent call last):\n  File \"/home/pchaurasia/miniconda3/lib/python3.11/multiprocessing/pool.py\", line 125, in worker\n    result = (True, func(*args, **kwds))\n                    ^^^^^^^^^^^^^^^^^^^\n  File \"/home/pchaurasia/miniconda3/lib/python3.11/multiprocessing/pool.py\", line 48, in mapstar\n    return list(map(*args))\n           ^^^^^^^^^^^^^^^^\n  File \"/home/pchaurasia/CodingWorkspace/work/morphvae/utils/rw_utils.py\", line 63, in get_rw_representation\n    sampled_random_walk = sample_random_walk(A,walk_length=walk_length,start_idx=0, P=P)\n                          ^^^^^^^^^^^^^^^^^^^^^^^^^^^^^^^^^^^^^^^^^^^^^^^^^^^^^^^^^^^^^^\n  File \"/home/pchaurasia/CodingWorkspace/work/morphvae/utils/rw_utils.py\", line 24, in sample_random_walk\n    neighbours = A[idx,:].indices\n                 ~^^^^^^^\n  File \"/home/pchaurasia/CodingWorkspace/work/morphvae/env/lib/python3.11/site-packages/scipy/sparse/_index.py\", line 51, in __getitem__\n    self._raise_on_1d_array_slice()\n  File \"/home/pchaurasia/CodingWorkspace/work/morphvae/env/lib/python3.11/site-packages/scipy/sparse/_index.py\", line 38, in _raise_on_1d_array_slice\n    raise NotImplementedError(\nNotImplementedError: We have not yet implemented 1D sparse slices; please index using explicit indices, e.g. `x[:, [0]]`\n\"\"\"",
      "\nThe above exception was the direct cause of the following exception:\n",
      "\u001b[0;31mNotImplementedError\u001b[0m                       Traceback (most recent call last)",
      "Cell \u001b[0;32mIn[9], line 14\u001b[0m\n\u001b[1;32m     12\u001b[0m rw_list \u001b[38;5;241m=\u001b[39m []\n\u001b[1;32m     13\u001b[0m \u001b[38;5;28;01mwith\u001b[39;00m multiprocessing\u001b[38;5;241m.\u001b[39mPool(NUM_CORES) \u001b[38;5;28;01mas\u001b[39;00m pool:\n\u001b[0;32m---> 14\u001b[0m     rw_list \u001b[38;5;241m+\u001b[39m\u001b[38;5;241m=\u001b[39m \u001b[43mpool\u001b[49m\u001b[38;5;241;43m.\u001b[39;49m\u001b[43mmap\u001b[49m\u001b[43m(\u001b[49m\u001b[43mget_rw_representation\u001b[49m\u001b[43m,\u001b[49m\u001b[43m \u001b[49m\u001b[43mneurons\u001b[49m\u001b[43m)\u001b[49m\n\u001b[1;32m     15\u001b[0m RW_representation \u001b[38;5;241m=\u001b[39m np\u001b[38;5;241m.\u001b[39marray([e[\u001b[38;5;241m0\u001b[39m] \u001b[38;5;28;01mfor\u001b[39;00m e \u001b[38;5;129;01min\u001b[39;00m rw_list])\n\u001b[1;32m     17\u001b[0m \u001b[38;5;28;01mwith\u001b[39;00m \u001b[38;5;28mopen\u001b[39m(BASE_DRIVE_DIR \u001b[38;5;241m/\u001b[39m \u001b[38;5;124m'\u001b[39m\u001b[38;5;124m/data/toy_data/3_populations/walk_representation_\u001b[39m\u001b[38;5;132;01m%i\u001b[39;00m\u001b[38;5;124m.npy\u001b[39m\u001b[38;5;124m'\u001b[39m\u001b[38;5;241m%\u001b[39mwalk_length, \u001b[38;5;124m'\u001b[39m\u001b[38;5;124mwb\u001b[39m\u001b[38;5;124m'\u001b[39m) \u001b[38;5;28;01mas\u001b[39;00m f:\n",
      "File \u001b[0;32m~/miniconda3/lib/python3.11/multiprocessing/pool.py:367\u001b[0m, in \u001b[0;36mPool.map\u001b[0;34m(self, func, iterable, chunksize)\u001b[0m\n\u001b[1;32m    362\u001b[0m \u001b[38;5;28;01mdef\u001b[39;00m \u001b[38;5;21mmap\u001b[39m(\u001b[38;5;28mself\u001b[39m, func, iterable, chunksize\u001b[38;5;241m=\u001b[39m\u001b[38;5;28;01mNone\u001b[39;00m):\n\u001b[1;32m    363\u001b[0m \u001b[38;5;250m    \u001b[39m\u001b[38;5;124;03m'''\u001b[39;00m\n\u001b[1;32m    364\u001b[0m \u001b[38;5;124;03m    Apply `func` to each element in `iterable`, collecting the results\u001b[39;00m\n\u001b[1;32m    365\u001b[0m \u001b[38;5;124;03m    in a list that is returned.\u001b[39;00m\n\u001b[1;32m    366\u001b[0m \u001b[38;5;124;03m    '''\u001b[39;00m\n\u001b[0;32m--> 367\u001b[0m     \u001b[38;5;28;01mreturn\u001b[39;00m \u001b[38;5;28;43mself\u001b[39;49m\u001b[38;5;241;43m.\u001b[39;49m\u001b[43m_map_async\u001b[49m\u001b[43m(\u001b[49m\u001b[43mfunc\u001b[49m\u001b[43m,\u001b[49m\u001b[43m \u001b[49m\u001b[43miterable\u001b[49m\u001b[43m,\u001b[49m\u001b[43m \u001b[49m\u001b[43mmapstar\u001b[49m\u001b[43m,\u001b[49m\u001b[43m \u001b[49m\u001b[43mchunksize\u001b[49m\u001b[43m)\u001b[49m\u001b[38;5;241;43m.\u001b[39;49m\u001b[43mget\u001b[49m\u001b[43m(\u001b[49m\u001b[43m)\u001b[49m\n",
      "File \u001b[0;32m~/miniconda3/lib/python3.11/multiprocessing/pool.py:774\u001b[0m, in \u001b[0;36mApplyResult.get\u001b[0;34m(self, timeout)\u001b[0m\n\u001b[1;32m    772\u001b[0m     \u001b[38;5;28;01mreturn\u001b[39;00m \u001b[38;5;28mself\u001b[39m\u001b[38;5;241m.\u001b[39m_value\n\u001b[1;32m    773\u001b[0m \u001b[38;5;28;01melse\u001b[39;00m:\n\u001b[0;32m--> 774\u001b[0m     \u001b[38;5;28;01mraise\u001b[39;00m \u001b[38;5;28mself\u001b[39m\u001b[38;5;241m.\u001b[39m_value\n",
      "\u001b[0;31mNotImplementedError\u001b[0m: We have not yet implemented 1D sparse slices; please index using explicit indices, e.g. `x[:, [0]]`"
     ]
    }
   ],
   "source": [
    "# sample RANDOM walks THIS BLOCK IS EXPECTED TO NOT WORK\n",
    "import multiprocessing\n",
    "from utils.rw_utils import get_rw_representation, get_walk_representation\n",
    "\n",
    "np.random.seed(17)\n",
    "\n",
    "n_walks=256\n",
    "N = len(neurons)\n",
    "NUM_CORES = 15\n",
    "\n",
    "for walk_length in [8,16,32]:\n",
    "    rw_list = []\n",
    "    with multiprocessing.Pool(NUM_CORES) as pool:\n",
    "        rw_list += pool.map(get_rw_representation, neurons)\n",
    "    RW_representation = np.array([e[0] for e in rw_list])\n",
    "\n",
    "    with open(BASE_DRIVE_DIR / '/data/toy_data/3_populations/walk_representation_%i.npy'%walk_length, 'wb') as f:\n",
    "        np.save(f, walk_representation)"
   ]
  },
  {
   "cell_type": "code",
   "execution_count": 10,
   "metadata": {
    "colab": {
     "base_uri": "https://localhost:8080/"
    },
    "id": "LIcu13nrCvfP",
    "outputId": "7b7c90e4-4125-47d3-ed02-2b186d02c9a9"
   },
   "outputs": [
    {
     "data": {
      "text/plain": [
       "array([[[[ 0.  ,  0.  ,  0.  ],\n",
       "         [-0.35, -1.65,  0.92],\n",
       "         [-0.9 , -1.41,  1.28],\n",
       "         ...,\n",
       "         [ -inf,  -inf,  -inf],\n",
       "         [ -inf,  -inf,  -inf],\n",
       "         [ -inf,  -inf,  -inf]],\n",
       "\n",
       "        [[ 0.  ,  0.  ,  0.  ],\n",
       "         [-0.35, -1.65,  0.92],\n",
       "         [-0.9 , -1.41,  1.28],\n",
       "         ...,\n",
       "         [ -inf,  -inf,  -inf],\n",
       "         [ -inf,  -inf,  -inf],\n",
       "         [ -inf,  -inf,  -inf]],\n",
       "\n",
       "        [[ 0.  ,  0.  ,  0.  ],\n",
       "         [ 0.46, -1.25,  0.12],\n",
       "         [ 0.86,  0.27, -0.14],\n",
       "         ...,\n",
       "         [ -inf,  -inf,  -inf],\n",
       "         [ -inf,  -inf,  -inf],\n",
       "         [ -inf,  -inf,  -inf]],\n",
       "\n",
       "        ...,\n",
       "\n",
       "        [[ 0.  ,  0.  ,  0.  ],\n",
       "         [-0.35, -1.65,  0.92],\n",
       "         [-0.9 , -1.41,  1.28],\n",
       "         ...,\n",
       "         [ -inf,  -inf,  -inf],\n",
       "         [ -inf,  -inf,  -inf],\n",
       "         [ -inf,  -inf,  -inf]],\n",
       "\n",
       "        [[ 0.  ,  0.  ,  0.  ],\n",
       "         [ 0.46, -1.25,  0.12],\n",
       "         [ 0.86,  0.27, -0.14],\n",
       "         ...,\n",
       "         [ -inf,  -inf,  -inf],\n",
       "         [ -inf,  -inf,  -inf],\n",
       "         [ -inf,  -inf,  -inf]],\n",
       "\n",
       "        [[ 0.  ,  0.  ,  0.  ],\n",
       "         [ 0.46, -1.25,  0.12],\n",
       "         [ 0.86,  0.27, -0.14],\n",
       "         ...,\n",
       "         [ -inf,  -inf,  -inf],\n",
       "         [ -inf,  -inf,  -inf],\n",
       "         [ -inf,  -inf,  -inf]]],\n",
       "\n",
       "\n",
       "       [[[ 0.  ,  0.  ,  0.  ],\n",
       "         [-0.39, -0.34,  0.52],\n",
       "         [-0.76,  0.08,  0.48],\n",
       "         ...,\n",
       "         [ -inf,  -inf,  -inf],\n",
       "         [ -inf,  -inf,  -inf],\n",
       "         [ -inf,  -inf,  -inf]],\n",
       "\n",
       "        [[ 0.  ,  0.  ,  0.  ],\n",
       "         [-0.39, -0.34,  0.52],\n",
       "         [-0.76,  0.08,  0.48],\n",
       "         ...,\n",
       "         [ -inf,  -inf,  -inf],\n",
       "         [ -inf,  -inf,  -inf],\n",
       "         [ -inf,  -inf,  -inf]],\n",
       "\n",
       "        [[ 0.  ,  0.  ,  0.  ],\n",
       "         [ 0.35,  0.64, -0.56],\n",
       "         [ 0.74,  0.9 , -1.8 ],\n",
       "         ...,\n",
       "         [ -inf,  -inf,  -inf],\n",
       "         [ -inf,  -inf,  -inf],\n",
       "         [ -inf,  -inf,  -inf]],\n",
       "\n",
       "        ...,\n",
       "\n",
       "        [[ 0.  ,  0.  ,  0.  ],\n",
       "         [ 0.35,  0.64, -0.56],\n",
       "         [ 0.74,  0.9 , -1.8 ],\n",
       "         ...,\n",
       "         [ -inf,  -inf,  -inf],\n",
       "         [ -inf,  -inf,  -inf],\n",
       "         [ -inf,  -inf,  -inf]],\n",
       "\n",
       "        [[ 0.  ,  0.  ,  0.  ],\n",
       "         [-0.39, -0.34,  0.52],\n",
       "         [-0.76,  0.08,  0.48],\n",
       "         ...,\n",
       "         [ -inf,  -inf,  -inf],\n",
       "         [ -inf,  -inf,  -inf],\n",
       "         [ -inf,  -inf,  -inf]],\n",
       "\n",
       "        [[ 0.  ,  0.  ,  0.  ],\n",
       "         [-0.26,  1.  ,  1.27],\n",
       "         [-0.55,  1.94,  1.15],\n",
       "         ...,\n",
       "         [ -inf,  -inf,  -inf],\n",
       "         [ -inf,  -inf,  -inf],\n",
       "         [ -inf,  -inf,  -inf]]],\n",
       "\n",
       "\n",
       "       [[[ 0.  ,  0.  ,  0.  ],\n",
       "         [-0.28, -0.39, -0.45],\n",
       "         [-0.56, -0.3 , -0.1 ],\n",
       "         ...,\n",
       "         [ -inf,  -inf,  -inf],\n",
       "         [ -inf,  -inf,  -inf],\n",
       "         [ -inf,  -inf,  -inf]],\n",
       "\n",
       "        [[ 0.  ,  0.  ,  0.  ],\n",
       "         [ 0.29,  0.23, -0.47],\n",
       "         [ 0.53, -0.48, -0.22],\n",
       "         ...,\n",
       "         [ -inf,  -inf,  -inf],\n",
       "         [ -inf,  -inf,  -inf],\n",
       "         [ -inf,  -inf,  -inf]],\n",
       "\n",
       "        [[ 0.  ,  0.  ,  0.  ],\n",
       "         [-0.28, -0.39, -0.45],\n",
       "         [-0.56, -0.3 , -0.1 ],\n",
       "         ...,\n",
       "         [ -inf,  -inf,  -inf],\n",
       "         [ -inf,  -inf,  -inf],\n",
       "         [ -inf,  -inf,  -inf]],\n",
       "\n",
       "        ...,\n",
       "\n",
       "        [[ 0.  ,  0.  ,  0.  ],\n",
       "         [ 0.29,  0.23, -0.47],\n",
       "         [ 0.53, -0.48, -0.22],\n",
       "         ...,\n",
       "         [ -inf,  -inf,  -inf],\n",
       "         [ -inf,  -inf,  -inf],\n",
       "         [ -inf,  -inf,  -inf]],\n",
       "\n",
       "        [[ 0.  ,  0.  ,  0.  ],\n",
       "         [ 0.29,  0.23, -0.47],\n",
       "         [ 0.53, -0.48, -0.22],\n",
       "         ...,\n",
       "         [ -inf,  -inf,  -inf],\n",
       "         [ -inf,  -inf,  -inf],\n",
       "         [ -inf,  -inf,  -inf]],\n",
       "\n",
       "        [[ 0.  ,  0.  ,  0.  ],\n",
       "         [-0.28, -0.39, -0.45],\n",
       "         [-0.56, -0.3 , -0.1 ],\n",
       "         ...,\n",
       "         [ -inf,  -inf,  -inf],\n",
       "         [ -inf,  -inf,  -inf],\n",
       "         [ -inf,  -inf,  -inf]]],\n",
       "\n",
       "\n",
       "       ...,\n",
       "\n",
       "\n",
       "       [[[ 0.  ,  0.  ,  0.  ],\n",
       "         [-0.97, -1.27, -1.11],\n",
       "         [-1.79,  0.21, -1.74],\n",
       "         ...,\n",
       "         [ -inf,  -inf,  -inf],\n",
       "         [ -inf,  -inf,  -inf],\n",
       "         [ -inf,  -inf,  -inf]],\n",
       "\n",
       "        [[ 0.  ,  0.  ,  0.  ],\n",
       "         [-0.97, -1.27, -1.11],\n",
       "         [-1.79,  0.21, -1.74],\n",
       "         ...,\n",
       "         [ -inf,  -inf,  -inf],\n",
       "         [ -inf,  -inf,  -inf],\n",
       "         [ -inf,  -inf,  -inf]],\n",
       "\n",
       "        [[ 0.  ,  0.  ,  0.  ],\n",
       "         [-1.17,  0.73, -0.78],\n",
       "         [-2.43,  0.97, -0.99],\n",
       "         ...,\n",
       "         [ -inf,  -inf,  -inf],\n",
       "         [ -inf,  -inf,  -inf],\n",
       "         [ -inf,  -inf,  -inf]],\n",
       "\n",
       "        ...,\n",
       "\n",
       "        [[ 0.  ,  0.  ,  0.  ],\n",
       "         [-1.17,  0.73, -0.78],\n",
       "         [-2.43,  0.97, -0.99],\n",
       "         ...,\n",
       "         [ -inf,  -inf,  -inf],\n",
       "         [ -inf,  -inf,  -inf],\n",
       "         [ -inf,  -inf,  -inf]],\n",
       "\n",
       "        [[ 0.  ,  0.  ,  0.  ],\n",
       "         [-0.97, -1.27, -1.11],\n",
       "         [-1.79,  0.21, -1.74],\n",
       "         ...,\n",
       "         [ -inf,  -inf,  -inf],\n",
       "         [ -inf,  -inf,  -inf],\n",
       "         [ -inf,  -inf,  -inf]],\n",
       "\n",
       "        [[ 0.  ,  0.  ,  0.  ],\n",
       "         [ 1.23,  0.38,  0.41],\n",
       "         [ 1.47,  2.36,  1.58],\n",
       "         ...,\n",
       "         [ -inf,  -inf,  -inf],\n",
       "         [ -inf,  -inf,  -inf],\n",
       "         [ -inf,  -inf,  -inf]]],\n",
       "\n",
       "\n",
       "       [[[ 0.  ,  0.  ,  0.  ],\n",
       "         [-1.25,  0.91, -1.93],\n",
       "         [-1.88,  2.37, -0.99],\n",
       "         ...,\n",
       "         [ -inf,  -inf,  -inf],\n",
       "         [ -inf,  -inf,  -inf],\n",
       "         [ -inf,  -inf,  -inf]],\n",
       "\n",
       "        [[ 0.  ,  0.  ,  0.  ],\n",
       "         [-0.94,  1.27, -0.46],\n",
       "         [-2.37,  1.73,  0.27],\n",
       "         ...,\n",
       "         [ -inf,  -inf,  -inf],\n",
       "         [ -inf,  -inf,  -inf],\n",
       "         [ -inf,  -inf,  -inf]],\n",
       "\n",
       "        [[ 0.  ,  0.  ,  0.  ],\n",
       "         [-1.25,  0.91, -1.93],\n",
       "         [-2.68,  1.34, -3.98],\n",
       "         ...,\n",
       "         [ -inf,  -inf,  -inf],\n",
       "         [ -inf,  -inf,  -inf],\n",
       "         [ -inf,  -inf,  -inf]],\n",
       "\n",
       "        ...,\n",
       "\n",
       "        [[ 0.  ,  0.  ,  0.  ],\n",
       "         [-0.15, -1.6 , -0.  ],\n",
       "         [ 1.32, -1.94,  0.51],\n",
       "         ...,\n",
       "         [ -inf,  -inf,  -inf],\n",
       "         [ -inf,  -inf,  -inf],\n",
       "         [ -inf,  -inf,  -inf]],\n",
       "\n",
       "        [[ 0.  ,  0.  ,  0.  ],\n",
       "         [ 0.36,  1.58, -2.02],\n",
       "         [ 0.98,  0.13, -2.47],\n",
       "         ...,\n",
       "         [ -inf,  -inf,  -inf],\n",
       "         [ -inf,  -inf,  -inf],\n",
       "         [ -inf,  -inf,  -inf]],\n",
       "\n",
       "        [[ 0.  ,  0.  ,  0.  ],\n",
       "         [ 1.47,  0.23, -0.19],\n",
       "         [ 2.95,  0.45,  0.97],\n",
       "         ...,\n",
       "         [ -inf,  -inf,  -inf],\n",
       "         [ -inf,  -inf,  -inf],\n",
       "         [ -inf,  -inf,  -inf]]],\n",
       "\n",
       "\n",
       "       [[[ 0.  ,  0.  ,  0.  ],\n",
       "         [-1.  ,  1.37,  0.29],\n",
       "         [-1.35, -0.33, -1.06],\n",
       "         ...,\n",
       "         [ -inf,  -inf,  -inf],\n",
       "         [ -inf,  -inf,  -inf],\n",
       "         [ -inf,  -inf,  -inf]],\n",
       "\n",
       "        [[ 0.  ,  0.  ,  0.  ],\n",
       "         [ 0.91,  1.44, -1.83],\n",
       "         [ 1.83,  2.92, -1.73],\n",
       "         ...,\n",
       "         [ -inf,  -inf,  -inf],\n",
       "         [ -inf,  -inf,  -inf],\n",
       "         [ -inf,  -inf,  -inf]],\n",
       "\n",
       "        [[ 0.  ,  0.  ,  0.  ],\n",
       "         [ 0.91,  1.44, -1.83],\n",
       "         [ 1.83,  2.92, -1.73],\n",
       "         ...,\n",
       "         [ -inf,  -inf,  -inf],\n",
       "         [ -inf,  -inf,  -inf],\n",
       "         [ -inf,  -inf,  -inf]],\n",
       "\n",
       "        ...,\n",
       "\n",
       "        [[ 0.  ,  0.  ,  0.  ],\n",
       "         [ 1.35,  0.92, -0.85],\n",
       "         [ 2.42,  2.2 , -0.5 ],\n",
       "         ...,\n",
       "         [ -inf,  -inf,  -inf],\n",
       "         [ -inf,  -inf,  -inf],\n",
       "         [ -inf,  -inf,  -inf]],\n",
       "\n",
       "        [[ 0.  ,  0.  ,  0.  ],\n",
       "         [ 0.74, -1.52,  0.87],\n",
       "         [ 1.98, -2.55, -0.03],\n",
       "         ...,\n",
       "         [ -inf,  -inf,  -inf],\n",
       "         [ -inf,  -inf,  -inf],\n",
       "         [ -inf,  -inf,  -inf]],\n",
       "\n",
       "        [[ 0.  ,  0.  ,  0.  ],\n",
       "         [-1.2 , -1.11, -2.38],\n",
       "         [-1.92, -2.71, -1.51],\n",
       "         ...,\n",
       "         [ -inf,  -inf,  -inf],\n",
       "         [ -inf,  -inf,  -inf],\n",
       "         [ -inf,  -inf,  -inf]]]])"
      ]
     },
     "execution_count": 10,
     "metadata": {},
     "output_type": "execute_result"
    }
   ],
   "source": [
    "# Load in the walk representation\n",
    "folder = '3_populations'\n",
    "\n",
    "pth = './data/toy_data/%s/walk_representation_32.npy'%folder\n",
    "\n",
    "\n",
    "with open(pth, 'rb') as f:\n",
    "    walk_representation = np.load(f)\n",
    "\n",
    "walk_representation"
   ]
  },
  {
   "cell_type": "code",
   "execution_count": 11,
   "metadata": {
    "id": "XtlA7O2Z8yBW"
   },
   "outputs": [],
   "source": [
    "def scale(X,scale=(.1,3)):\n",
    "    a = scale[0]\n",
    "    b = scale[1]\n",
    "    s = a + (b-a)*torch.rand(1)\n",
    "    return X*s\n"
   ]
  },
  {
   "cell_type": "code",
   "execution_count": 12,
   "metadata": {
    "id": "7AyPdFSuDPCv"
   },
   "outputs": [],
   "source": [
    "from torchvision.transforms import Lambda\n",
    "rand_scaling = Lambda(scale)"
   ]
  },
  {
   "cell_type": "code",
   "execution_count": 13,
   "metadata": {
    "id": "_PA_WxpzDTDZ"
   },
   "outputs": [],
   "source": [
    "#Create a dataset\n",
    "from utils.training_utils import create_Seq2SeqDataset\n",
    "\n",
    "# create Seq2Seq data set\n",
    "MASKING_ELEMENT = 0\n",
    "#true_labels = torch.Tensor([0]*300 + [1]*300 + [2]*300 + [3]*300 + [4]*300).to(torch.long) # when 5 population data is loaded\n",
    "true_labels = torch.Tensor([0]*400 + [1]*400 + [2]*400).to(torch.long)\n",
    "\n",
    "transform = rand_scaling\n",
    "SeqDS_scaled = create_Seq2SeqDataset(walk_representation, true_labels, MASKING_ELEMENT, transform=transform)\n",
    "SeqDS_nonscaled = create_Seq2SeqDataset(walk_representation, true_labels, MASKING_ELEMENT, transform=None)\n",
    "\n",
    "mask = walk_representation[:,:,:,0] != np.infty*-1\n",
    "seq_lengths = torch.Tensor(mask.sum(axis=2))\n"
   ]
  },
  {
   "cell_type": "code",
   "execution_count": 14,
   "metadata": {
    "id": "rkndnzaCDdpE"
   },
   "outputs": [
    {
     "name": "stdout",
     "output_type": "stream",
     "text": [
      "dump\n",
      "dump\n",
      "dump\n"
     ]
    }
   ],
   "source": [
    "np.random.seed(17)\n",
    "\n",
    "import pickle\n",
    "from torch.utils.data.sampler import SubsetRandomSampler\n",
    "\n",
    "BATCH_SIZE = 128\n",
    "N, n_walks, walk_length, output_dim = walk_representation.shape\n",
    "\n",
    "N_train = 750\n",
    "N_val = 250\n",
    "train_index = np.random.choice(range(N), size=N_train, replace=False)\n",
    "val_index = np.random.choice(list(set(range(N)) - set(train_index)), size=N_val, replace=False)\n",
    "test_index = list(set(range(N)) - set(train_index) -set(val_index))\n",
    "\n",
    "train_sampler = SubsetRandomSampler(train_index)\n",
    "val_sampler = SubsetRandomSampler(val_index)\n",
    "test_sampler = SubsetRandomSampler(test_index)\n",
    "\n",
    "\n",
    "train_iterator = torch.utils.data.DataLoader(SeqDS_nonscaled, batch_size=BATCH_SIZE,\n",
    "                                               sampler=train_sampler)\n",
    "val_iterator = torch.utils.data.DataLoader(SeqDS_nonscaled, batch_size=len(val_index),\n",
    "                                           sampler=val_sampler)\n",
    "test_iterator= torch.utils.data.DataLoader(SeqDS_nonscaled, batch_size=len(test_index),\n",
    "                                           sampler=test_sampler)\n",
    "\n",
    "\n",
    "# save the iterator\n",
    "prefix = ''\n",
    "with open('./data/toy_data/%s/iterator/%sval_iterator.pkl'%(folder, prefix), 'wb') as f:\n",
    "    pickle.dump(val_iterator, f)\n",
    "\n",
    "with open('./data/toy_data/%s/iterator/%stest_iterator.pkl'%(folder, prefix), 'wb') as f:\n",
    "    pickle.dump(test_iterator, f)\n",
    "with open('./data/toy_data/%s/iterator/%strain_iterator.pkl'%(folder, prefix), 'wb') as f:\n",
    "    pickle.dump(train_iterator, f)\n",
    "\n",
    "\n",
    "train_iterator = torch.utils.data.DataLoader(SeqDS_scaled, batch_size=BATCH_SIZE,\n",
    "                                               sampler=train_sampler)\n",
    "val_iterator = torch.utils.data.DataLoader(SeqDS_scaled, batch_size=BATCH_SIZE,\n",
    "                                           sampler=val_sampler)\n",
    "test_iterator= torch.utils.data.DataLoader(SeqDS_scaled, batch_size=BATCH_SIZE,\n",
    "                                           sampler=test_sampler)\n",
    "# save the iterator\n",
    "prefix = 'scaling_'\n",
    "with open('./data/toy_data/%s/iterator/%sval_iterator.pkl'%(folder, prefix), 'wb') as f:\n",
    "    pickle.dump(val_iterator, f)\n",
    "    print(\"dump\")\n",
    "with open('./data/toy_data/%s/iterator/%stest_iterator.pkl'%(folder, prefix), 'wb') as f:\n",
    "    pickle.dump(test_iterator, f)\n",
    "    print(\"dump\")\n",
    "with open('./data/toy_data/%s/iterator/%strain_iterator.pkl'%(folder, prefix), 'wb') as f:\n",
    "    pickle.dump(train_iterator, f)\n",
    "    print(\"dump\")"
   ]
  },
  {
   "cell_type": "code",
   "execution_count": 15,
   "metadata": {
    "id": "250V1ikxiYtg"
   },
   "outputs": [],
   "source": [
    "INPUT_DIM = 3\n",
    "lr = 1e-2                           # learning rate\n",
    "NUM_LAYERS = 2\n",
    "NUM_CLASSES = 3\n",
    "N_EPOCHS = 150"
   ]
  },
  {
   "cell_type": "code",
   "execution_count": 16,
   "metadata": {
    "colab": {
     "base_uri": "https://localhost:8080/"
    },
    "id": "tg4j05EE2-lZ",
    "outputId": "cdf19ad3-cef1-42b7-d7c9-5e61187cc408"
   },
   "outputs": [
    {
     "data": {
      "text/plain": [
       "True"
      ]
     },
     "execution_count": 16,
     "metadata": {},
     "output_type": "execute_result"
    }
   ],
   "source": [
    "import os\n",
    "os.path.exists('./data/toy_data/3_populations/iterator')"
   ]
  },
  {
   "cell_type": "code",
   "execution_count": 17,
   "metadata": {
    "colab": {
     "base_uri": "https://localhost:8080/"
    },
    "id": "S1ZvMIUS47mm",
    "outputId": "5e4d8d63-9c8d-4e2c-a2cc-f4475bbba220"
   },
   "outputs": [
    {
     "data": {
      "text/plain": [
       "<torch.utils.data.dataloader.DataLoader at 0x7fc8be2fdd90>"
      ]
     },
     "execution_count": 17,
     "metadata": {},
     "output_type": "execute_result"
    }
   ],
   "source": [
    "train_iterator\n"
   ]
  },
  {
   "cell_type": "code",
   "execution_count": 18,
   "metadata": {
    "colab": {
     "base_uri": "https://localhost:8080/"
    },
    "id": "M_pxSEJU52e4",
    "outputId": "9ff154e6-a3c5-444d-df63-9f7e4305ebdc"
   },
   "outputs": [
    {
     "data": {
      "text/plain": [
       "<torch.utils.data.dataloader.DataLoader at 0x7fc8c8130310>"
      ]
     },
     "execution_count": 18,
     "metadata": {},
     "output_type": "execute_result"
    }
   ],
   "source": [
    "val_iterator\n"
   ]
  },
  {
   "cell_type": "code",
   "execution_count": 19,
   "metadata": {
    "colab": {
     "base_uri": "https://localhost:8080/",
     "height": 197
    },
    "id": "kATRSqoP5cAk",
    "outputId": "11911fad-9779-46d1-eb64-7bd529589f60"
   },
   "outputs": [],
   "source": [
    "one_sample = next(iter(train_iterator))\n"
   ]
  },
  {
   "cell_type": "code",
   "execution_count": 20,
   "metadata": {
    "colab": {
     "base_uri": "https://localhost:8080/",
     "height": 179
    },
    "id": "NXpn8DflGH5u",
    "outputId": "73ced5ea-f530-4293-b706-258a8c994fed"
   },
   "outputs": [
    {
     "data": {
      "text/plain": [
       "tensor([1, 0, 1, 1, 1, 2, 0, 0, 1, 2, 1, 1, 0, 1, 2, 2, 2, 1, 2, 0, 1, 0, 1, 0,\n",
       "        1, 0, 1, 2, 1, 2, 0, 0, 2, 2, 2, 0, 0, 0, 1, 0, 0, 2, 1, 1, 1, 2, 1, 1,\n",
       "        0, 1, 2, 2, 0, 0, 0, 2, 2, 1, 0, 1, 0, 2, 1, 2, 2, 2, 2, 2, 1, 1, 2, 0,\n",
       "        1, 0, 0, 1, 2, 2, 2, 0, 0, 1, 2, 1, 1, 0, 1, 0, 0, 2, 0, 2, 2, 2, 1, 2,\n",
       "        1, 0, 1, 0, 2, 1, 0, 0, 0, 2, 1, 0, 2, 2, 0, 0, 2, 1, 2, 2, 1, 0, 1, 1,\n",
       "        2, 0, 1, 1, 2, 1, 0, 2])"
      ]
     },
     "execution_count": 20,
     "metadata": {},
     "output_type": "execute_result"
    }
   ],
   "source": [
    "one_sample[4]"
   ]
  },
  {
   "cell_type": "code",
   "execution_count": 21,
   "metadata": {
    "id": "rwfSZvHVidWT"
   },
   "outputs": [],
   "source": [
    "src_data, trg_data, seq_len, indices, labels = list(train_iterator)[0]\n",
    "bs, n_walks, walk_length, output_dim = src_data.shape\n",
    "\n",
    "N_train = len(train_iterator.sampler.indices)\n",
    "N_val = len(val_iterator.sampler.indices)"
   ]
  },
  {
   "cell_type": "code",
   "execution_count": 22,
   "metadata": {
    "id": "vuo57QFe-5yV"
   },
   "outputs": [],
   "source": [
    "emb_dim = 32\n",
    "latent_dim = 32\n",
    "NUM_LAYERS = 2\n",
    "dpout = .1\n",
    "kap = 500\n",
    "pool = 'max'\n",
    "lr = 0.01\n",
    "MASKING_ELEMENT = train_iterator.dataset.masking_el\n",
    "\n",
    "# get number of labels, ignore -100 index\n",
    "l = list(np.unique(labels))\n",
    "if -100 in l:\n",
    "    l.remove(-100)\n",
    "NUM_CLASSES = len(l)"
   ]
  },
  {
   "cell_type": "code",
   "execution_count": 23,
   "metadata": {
    "colab": {
     "base_uri": "https://localhost:8080/"
    },
    "id": "sfeLNA_rih5C",
    "outputId": "e33c8d65-3510-479a-f473-d246c722f132"
   },
   "outputs": [
    {
     "data": {
      "text/plain": [
       "3"
      ]
     },
     "execution_count": 23,
     "metadata": {},
     "output_type": "execute_result"
    }
   ],
   "source": [
    "NUM_CLASSES"
   ]
  },
  {
   "cell_type": "code",
   "execution_count": 24,
   "metadata": {
    "colab": {
     "base_uri": "https://localhost:8080/"
    },
    "id": "sWuQXI1himmR",
    "outputId": "ae72e4f9-4907-43d7-9203-04f03dcc99f0"
   },
   "outputs": [
    {
     "name": "stdout",
     "output_type": "stream",
     "text": [
      "KLD: 45.709938049316406\n"
     ]
    }
   ],
   "source": [
    "from models import SeqEncoder, SeqDecoder, Seq2Seq_VAE, PoolingClassifier, init_weights\n",
    "from utils.vmf_batch import vMF\n",
    "\n",
    "enc = SeqEncoder(output_dim, emb_dim, emb_dim, NUM_LAYERS, dpout)\n",
    "dec = SeqDecoder(output_dim, emb_dim, emb_dim, NUM_LAYERS, dpout)\n",
    "dist = vMF(latent_dim, kappa=kap)\n",
    "model = Seq2Seq_VAE(enc, dec, dist, device).to(device)\n",
    "classifier = PoolingClassifier(latent_dim, NUM_CLASSES, n_walks,dpout,pooling=pool).to(device)"
   ]
  },
  {
   "cell_type": "code",
   "execution_count": 25,
   "metadata": {
    "id": "qgkgXWgyitUp"
   },
   "outputs": [],
   "source": [
    "torch.cuda.empty_cache()"
   ]
  },
  {
   "cell_type": "code",
   "execution_count": 26,
   "metadata": {
    "id": "1sHTJq47HM0g"
   },
   "outputs": [],
   "source": [
    "def calculate_loss(x, reconstructed_x, ignore_el=MASKING_ELEMENT):\n",
    "    # reconstruction loss\n",
    "    # x = [trg len, batch size * n walks, output dim]\n",
    "\n",
    "    seq_len , bs, output_dim = x.shape\n",
    "    mask = x[:,:,0] != ignore_el\n",
    "    RCL = 0\n",
    "    for d in range(output_dim):\n",
    "        RCL += mse_loss(reconstructed_x[:,:,d][mask], x[:,:,d][mask])\n",
    "    RCL /= output_dim\n",
    "\n",
    "    return RCL"
   ]
  },
  {
   "cell_type": "code",
   "execution_count": 27,
   "metadata": {
    "colab": {
     "base_uri": "https://localhost:8080/"
    },
    "id": "mO2_k2bfipMq",
    "outputId": "27f94bef-9b99-40c0-cca7-5cb6d83e8ad8"
   },
   "outputs": [
    {
     "name": "stdout",
     "output_type": "stream",
     "text": [
      "Epoch 0, Train Loss: 4801.96, Val Loss: 17642.11,                   Time elapsed [s]: 34.31\n",
      "Epoch 1, Train Loss: 3830.72, Val Loss: 18948.20,                   Time elapsed [s]: 33.76\n",
      "Epoch 2, Train Loss: 3321.24, Val Loss: 13184.52,                   Time elapsed [s]: 33.80\n",
      "Epoch 3, Train Loss: 2902.46, Val Loss: 15178.44,                   Time elapsed [s]: 33.70\n",
      "Epoch 4, Train Loss: 2633.66, Val Loss: 15605.96,                   Time elapsed [s]: 33.89\n",
      "Epoch 5, Train Loss: 2461.14, Val Loss: 14609.51,                   Time elapsed [s]: 33.66\n"
     ]
    },
    {
     "ename": "KeyboardInterrupt",
     "evalue": "",
     "output_type": "error",
     "traceback": [
      "\u001b[0;31m---------------------------------------------------------------------------\u001b[0m",
      "\u001b[0;31mKeyboardInterrupt\u001b[0m                         Traceback (most recent call last)",
      "Cell \u001b[0;32mIn[27], line 65\u001b[0m\n\u001b[1;32m     63\u001b[0m \u001b[38;5;28;01mfor\u001b[39;00m e \u001b[38;5;129;01min\u001b[39;00m \u001b[38;5;28mrange\u001b[39m(last_epoch, N_EPOCHS):\n\u001b[1;32m     64\u001b[0m     start\u001b[38;5;241m.\u001b[39mrecord()\n\u001b[0;32m---> 65\u001b[0m     train_loss, train_class_loss \u001b[38;5;241m=\u001b[39m \u001b[43mtrain\u001b[49m\u001b[43m(\u001b[49m\u001b[43mmodel\u001b[49m\u001b[43m,\u001b[49m\u001b[43m \u001b[49m\u001b[43mclassifier\u001b[49m\u001b[43m,\u001b[49m\u001b[43m \u001b[49m\u001b[43mtrain_iterator\u001b[49m\u001b[43m,\u001b[49m\u001b[43m \u001b[49m\u001b[43moptimizer\u001b[49m\u001b[43m,\u001b[49m\n\u001b[1;32m     66\u001b[0m \u001b[43m                                       \u001b[49m\u001b[43mcalculate_loss\u001b[49m\u001b[43m,\u001b[49m\u001b[43mcross_entropy_loss\u001b[49m\u001b[43m,\u001b[49m\u001b[43m \u001b[49m\u001b[43mclip\u001b[49m\u001b[38;5;241;43m=\u001b[39;49m\u001b[38;5;241;43m1\u001b[39;49m\u001b[43m,\u001b[49m\u001b[43m \u001b[49m\u001b[43mnorm_p\u001b[49m\u001b[38;5;241;43m=\u001b[39;49m\u001b[38;5;28;43;01mNone\u001b[39;49;00m\u001b[43m,\u001b[49m\n\u001b[1;32m     67\u001b[0m \u001b[43m                                         \u001b[49m\u001b[43mclass_fraction\u001b[49m\u001b[38;5;241;43m=\u001b[39;49m\u001b[43mfrac\u001b[49m\u001b[43m)\u001b[49m\n\u001b[1;32m     68\u001b[0m     val_loss, val_class_loss \u001b[38;5;241m=\u001b[39m evaluate(model,classifier, val_iterator,\n\u001b[1;32m     69\u001b[0m                                          calculate_loss, cross_entropy_loss, norm_p\u001b[38;5;241m=\u001b[39m\u001b[38;5;28;01mNone\u001b[39;00m)\n\u001b[1;32m     71\u001b[0m     end\u001b[38;5;241m.\u001b[39mrecord()\n",
      "File \u001b[0;32m~/CodingWorkspace/work/morphvae/utils/training_utils.py:72\u001b[0m, in \u001b[0;36mtrain\u001b[0;34m(model, classifier, iterator, optimizer, model_criterion, classifier_criterion, clip, norm_p, class_fraction, ignore_index)\u001b[0m\n\u001b[1;32m     67\u001b[0m \u001b[38;5;66;03m#         GPUtil.showUtilization()\u001b[39;00m\n\u001b[1;32m     68\u001b[0m         \u001b[38;5;66;03m# src = [walk length, batch size * n_walks, input dim]\u001b[39;00m\n\u001b[1;32m     70\u001b[0m         optimizer\u001b[38;5;241m.\u001b[39mzero_grad()\n\u001b[0;32m---> 72\u001b[0m         output \u001b[38;5;241m=\u001b[39m \u001b[43mmodel\u001b[49m\u001b[43m(\u001b[49m\u001b[43msrc\u001b[49m\u001b[43m,\u001b[49m\u001b[43m \u001b[49m\u001b[43msrc_len\u001b[49m\u001b[43m,\u001b[49m\u001b[43m \u001b[49m\u001b[43mtrg\u001b[49m\u001b[43m)\u001b[49m\n\u001b[1;32m     74\u001b[0m         \u001b[38;5;66;03m#trg = [trg len, batch size * n walks, output dim]\u001b[39;00m\n\u001b[1;32m     75\u001b[0m         \u001b[38;5;66;03m#output = [trg len, batch size  * n walks, output dim]\u001b[39;00m\n\u001b[1;32m     77\u001b[0m         rec_loss \u001b[38;5;241m=\u001b[39m model_criterion(output, trg)\n",
      "File \u001b[0;32m~/CodingWorkspace/work/morphvae/env/lib/python3.11/site-packages/torch/nn/modules/module.py:1518\u001b[0m, in \u001b[0;36mModule._wrapped_call_impl\u001b[0;34m(self, *args, **kwargs)\u001b[0m\n\u001b[1;32m   1516\u001b[0m     \u001b[38;5;28;01mreturn\u001b[39;00m \u001b[38;5;28mself\u001b[39m\u001b[38;5;241m.\u001b[39m_compiled_call_impl(\u001b[38;5;241m*\u001b[39margs, \u001b[38;5;241m*\u001b[39m\u001b[38;5;241m*\u001b[39mkwargs)  \u001b[38;5;66;03m# type: ignore[misc]\u001b[39;00m\n\u001b[1;32m   1517\u001b[0m \u001b[38;5;28;01melse\u001b[39;00m:\n\u001b[0;32m-> 1518\u001b[0m     \u001b[38;5;28;01mreturn\u001b[39;00m \u001b[38;5;28;43mself\u001b[39;49m\u001b[38;5;241;43m.\u001b[39;49m\u001b[43m_call_impl\u001b[49m\u001b[43m(\u001b[49m\u001b[38;5;241;43m*\u001b[39;49m\u001b[43margs\u001b[49m\u001b[43m,\u001b[49m\u001b[43m \u001b[49m\u001b[38;5;241;43m*\u001b[39;49m\u001b[38;5;241;43m*\u001b[39;49m\u001b[43mkwargs\u001b[49m\u001b[43m)\u001b[49m\n",
      "File \u001b[0;32m~/CodingWorkspace/work/morphvae/env/lib/python3.11/site-packages/torch/nn/modules/module.py:1527\u001b[0m, in \u001b[0;36mModule._call_impl\u001b[0;34m(self, *args, **kwargs)\u001b[0m\n\u001b[1;32m   1522\u001b[0m \u001b[38;5;66;03m# If we don't have any hooks, we want to skip the rest of the logic in\u001b[39;00m\n\u001b[1;32m   1523\u001b[0m \u001b[38;5;66;03m# this function, and just call forward.\u001b[39;00m\n\u001b[1;32m   1524\u001b[0m \u001b[38;5;28;01mif\u001b[39;00m \u001b[38;5;129;01mnot\u001b[39;00m (\u001b[38;5;28mself\u001b[39m\u001b[38;5;241m.\u001b[39m_backward_hooks \u001b[38;5;129;01mor\u001b[39;00m \u001b[38;5;28mself\u001b[39m\u001b[38;5;241m.\u001b[39m_backward_pre_hooks \u001b[38;5;129;01mor\u001b[39;00m \u001b[38;5;28mself\u001b[39m\u001b[38;5;241m.\u001b[39m_forward_hooks \u001b[38;5;129;01mor\u001b[39;00m \u001b[38;5;28mself\u001b[39m\u001b[38;5;241m.\u001b[39m_forward_pre_hooks\n\u001b[1;32m   1525\u001b[0m         \u001b[38;5;129;01mor\u001b[39;00m _global_backward_pre_hooks \u001b[38;5;129;01mor\u001b[39;00m _global_backward_hooks\n\u001b[1;32m   1526\u001b[0m         \u001b[38;5;129;01mor\u001b[39;00m _global_forward_hooks \u001b[38;5;129;01mor\u001b[39;00m _global_forward_pre_hooks):\n\u001b[0;32m-> 1527\u001b[0m     \u001b[38;5;28;01mreturn\u001b[39;00m \u001b[43mforward_call\u001b[49m\u001b[43m(\u001b[49m\u001b[38;5;241;43m*\u001b[39;49m\u001b[43margs\u001b[49m\u001b[43m,\u001b[49m\u001b[43m \u001b[49m\u001b[38;5;241;43m*\u001b[39;49m\u001b[38;5;241;43m*\u001b[39;49m\u001b[43mkwargs\u001b[49m\u001b[43m)\u001b[49m\n\u001b[1;32m   1529\u001b[0m \u001b[38;5;28;01mtry\u001b[39;00m:\n\u001b[1;32m   1530\u001b[0m     result \u001b[38;5;241m=\u001b[39m \u001b[38;5;28;01mNone\u001b[39;00m\n",
      "File \u001b[0;32m~/CodingWorkspace/work/morphvae/models.py:335\u001b[0m, in \u001b[0;36mSeq2Seq_VAE.forward\u001b[0;34m(self, src, src_len, trg, teacher_forcing_ratio)\u001b[0m\n\u001b[1;32m    331\u001b[0m outputs \u001b[38;5;241m=\u001b[39m torch\u001b[38;5;241m.\u001b[39mzeros(trg_len, batch_size, trg_vocab_size)\u001b[38;5;241m.\u001b[39mto(\u001b[38;5;28mself\u001b[39m\u001b[38;5;241m.\u001b[39mdevice)\n\u001b[1;32m    333\u001b[0m \u001b[38;5;66;03m#last hidden states of the encoder is used as the initial hidden states of the decoder\u001b[39;00m\n\u001b[0;32m--> 335\u001b[0m hidden, cell \u001b[38;5;241m=\u001b[39m \u001b[38;5;28;43mself\u001b[39;49m\u001b[38;5;241;43m.\u001b[39;49m\u001b[43mencode\u001b[49m\u001b[43m(\u001b[49m\u001b[43msrc\u001b[49m\u001b[43m,\u001b[49m\u001b[43msrc_len\u001b[49m\u001b[43m)\u001b[49m\n\u001b[1;32m    337\u001b[0m \u001b[38;5;66;03m#first input to the decoder is the first coordinate\u001b[39;00m\n\u001b[1;32m    338\u001b[0m \u001b[38;5;28minput\u001b[39m \u001b[38;5;241m=\u001b[39m trg[\u001b[38;5;241m0\u001b[39m,:]\n",
      "File \u001b[0;32m~/CodingWorkspace/work/morphvae/models.py:301\u001b[0m, in \u001b[0;36mSeq2Seq_VAE.encode\u001b[0;34m(self, src, src_len)\u001b[0m\n\u001b[1;32m    296\u001b[0m \u001b[38;5;28mself\u001b[39m\u001b[38;5;241m.\u001b[39mh \u001b[38;5;241m=\u001b[39m \u001b[38;5;28mself\u001b[39m\u001b[38;5;241m.\u001b[39mstates_to_latent(states)\n\u001b[1;32m    298\u001b[0m \u001b[38;5;66;03m# h = [batch size, latent dim]\u001b[39;00m\n\u001b[1;32m    299\u001b[0m \n\u001b[1;32m    300\u001b[0m \u001b[38;5;66;03m# sample from vMF distribution\u001b[39;00m\n\u001b[0;32m--> 301\u001b[0m tup, kld, vecs \u001b[38;5;241m=\u001b[39m \u001b[38;5;28;43mself\u001b[39;49m\u001b[38;5;241;43m.\u001b[39;49m\u001b[43mdist\u001b[49m\u001b[38;5;241;43m.\u001b[39;49m\u001b[43mbuild_bow_rep\u001b[49m\u001b[43m(\u001b[49m\u001b[38;5;28;43mself\u001b[39;49m\u001b[38;5;241;43m.\u001b[39;49m\u001b[43mh\u001b[49m\u001b[43m,\u001b[49m\u001b[43m \u001b[49m\u001b[43mn_sample\u001b[49m\u001b[38;5;241;43m=\u001b[39;49m\u001b[38;5;241;43m5\u001b[39;49m\u001b[43m)\u001b[49m\n\u001b[1;32m    303\u001b[0m \u001b[38;5;28mself\u001b[39m\u001b[38;5;241m.\u001b[39mZ \u001b[38;5;241m=\u001b[39m torch\u001b[38;5;241m.\u001b[39mmean(vecs, dim\u001b[38;5;241m=\u001b[39m\u001b[38;5;241m0\u001b[39m)\n\u001b[1;32m    304\u001b[0m decoder_states \u001b[38;5;241m=\u001b[39m \u001b[38;5;28mself\u001b[39m\u001b[38;5;241m.\u001b[39m_get_decoder_states(\u001b[38;5;28mself\u001b[39m\u001b[38;5;241m.\u001b[39mZ, batch_size)\n",
      "File \u001b[0;32m~/CodingWorkspace/work/morphvae/utils/vmf_batch.py:84\u001b[0m, in \u001b[0;36mvMF.build_bow_rep\u001b[0;34m(self, lat_code, n_sample)\u001b[0m\n\u001b[1;32m     82\u001b[0m     \u001b[38;5;28;01mreturn\u001b[39;00m tup, kld, \u001b[38;5;28mself\u001b[39m\u001b[38;5;241m.\u001b[39msample_cell(mu, norm, kappa)\n\u001b[1;32m     83\u001b[0m \u001b[38;5;28;01mfor\u001b[39;00m n \u001b[38;5;129;01min\u001b[39;00m \u001b[38;5;28mrange\u001b[39m(n_sample):\n\u001b[0;32m---> 84\u001b[0m     sample \u001b[38;5;241m=\u001b[39m \u001b[38;5;28;43mself\u001b[39;49m\u001b[38;5;241;43m.\u001b[39;49m\u001b[43msample_cell\u001b[49m\u001b[43m(\u001b[49m\u001b[43mmu\u001b[49m\u001b[43m,\u001b[49m\u001b[43m \u001b[49m\u001b[43mnorm\u001b[49m\u001b[43m,\u001b[49m\u001b[43m \u001b[49m\u001b[43mkappa\u001b[49m\u001b[43m)\u001b[49m\n\u001b[1;32m     85\u001b[0m     vecs\u001b[38;5;241m.\u001b[39mappend(sample)\n\u001b[1;32m     86\u001b[0m vecs \u001b[38;5;241m=\u001b[39m torch\u001b[38;5;241m.\u001b[39mcat(vecs, dim\u001b[38;5;241m=\u001b[39m\u001b[38;5;241m0\u001b[39m)\n",
      "File \u001b[0;32m~/CodingWorkspace/work/morphvae/utils/vmf_batch.py:93\u001b[0m, in \u001b[0;36mvMF.sample_cell\u001b[0;34m(self, mu, norm, kappa)\u001b[0m\n\u001b[1;32m     91\u001b[0m \u001b[38;5;66;03m# mu = GVar(mu)\u001b[39;00m\n\u001b[1;32m     92\u001b[0m mu \u001b[38;5;241m=\u001b[39m mu \u001b[38;5;241m/\u001b[39m torch\u001b[38;5;241m.\u001b[39mnorm(mu, p\u001b[38;5;241m=\u001b[39m\u001b[38;5;241m2\u001b[39m, dim\u001b[38;5;241m=\u001b[39m\u001b[38;5;241m1\u001b[39m, keepdim\u001b[38;5;241m=\u001b[39m\u001b[38;5;28;01mTrue\u001b[39;00m)\n\u001b[0;32m---> 93\u001b[0m w \u001b[38;5;241m=\u001b[39m \u001b[38;5;28;43mself\u001b[39;49m\u001b[38;5;241;43m.\u001b[39;49m\u001b[43m_sample_weight_batch\u001b[49m\u001b[43m(\u001b[49m\u001b[43mkappa\u001b[49m\u001b[43m,\u001b[49m\u001b[43m \u001b[49m\u001b[43mlat_dim\u001b[49m\u001b[43m,\u001b[49m\u001b[43m \u001b[49m\u001b[43mbatch_sz\u001b[49m\u001b[43m)\u001b[49m\n\u001b[1;32m     94\u001b[0m w \u001b[38;5;241m=\u001b[39m w\u001b[38;5;241m.\u001b[39munsqueeze(\u001b[38;5;241m1\u001b[39m)\n\u001b[1;32m     96\u001b[0m \u001b[38;5;66;03m# batch version\u001b[39;00m\n",
      "File \u001b[0;32m~/CodingWorkspace/work/morphvae/utils/vmf_batch.py:110\u001b[0m, in \u001b[0;36mvMF._sample_weight_batch\u001b[0;34m(self, kappa, dim, batch_sz)\u001b[0m\n\u001b[1;32m    108\u001b[0m result \u001b[38;5;241m=\u001b[39m torch\u001b[38;5;241m.\u001b[39mFloatTensor((batch_sz))\n\u001b[1;32m    109\u001b[0m \u001b[38;5;28;01mfor\u001b[39;00m b \u001b[38;5;129;01min\u001b[39;00m \u001b[38;5;28mrange\u001b[39m(batch_sz):\n\u001b[0;32m--> 110\u001b[0m     result[b] \u001b[38;5;241m=\u001b[39m \u001b[38;5;28mself\u001b[39m\u001b[38;5;241m.\u001b[39m_sample_weight(kappa, dim)\n\u001b[1;32m    111\u001b[0m \u001b[38;5;28;01mreturn\u001b[39;00m result\n",
      "\u001b[0;31mKeyboardInterrupt\u001b[0m: "
     ]
    }
   ],
   "source": [
    "N_EPOCHS= 150\n",
    "\n",
    "\n",
    "save_path_model= './models/toy_data/scratch/%s/vae_frac%.1f_scaled_best_run%i.pt'\n",
    "save_path_losses = './models/toy_data/scratch/%s/losses_frac%.1f_scaled_run%i.npy'\n",
    "save_path_elapsed_time = './models/toy_data/scratch/%s/elapsed_time_frac%.1f_scaled_run%i.npy'\n",
    "part = 'toy_data'\n",
    "\n",
    "os.makedirs('./models/toy_data/scratch/toy_data', exist_ok = True)\n",
    "\n",
    "\n",
    "import torch.optim as optim\n",
    "from utils.training_utils import train, evaluate\n",
    "\n",
    "start = torch.cuda.Event(enable_timing=True)\n",
    "end = torch.cuda.Event(enable_timing=True)\n",
    "\n",
    "#If you run into errors, replace line 289 in models.py with the following\n",
    "#        hidden, cell = self.encoder(src,src_len.to(\"cpu\"))\n",
    "\n",
    "for frac in [0.]:\n",
    "    runs = range(1,4)\n",
    "\n",
    "    for run in runs:\n",
    "\n",
    "\n",
    "        if os.path.exists(save_path_model%(part,frac,run)):\n",
    "            state_dict = torch.load(save_path_model%(part,frac,run))\n",
    "        else:\n",
    "            state_dict = None\n",
    "        #optimizer\n",
    "        optimizer = optim.Adam(list(model.parameters()) + list(classifier.parameters()), lr=lr)\n",
    "        # load pre-trained model\n",
    "        if state_dict is not None:\n",
    "            model.load_state_dict(state_dict['model_state_dict'])\n",
    "\n",
    "            optimizer.load_state_dict(state_dict['optimizer_state_dict'])\n",
    "            classifier.load_state_dict(state_dict['classifier_state_dict'])\n",
    "            losses = np.load(save_path_losses%(part, frac, run))\n",
    "            elapsed_time = np.load(save_path_elapsed_time%(part, frac, run))\n",
    "\n",
    "            last_epoch = state_dict['epoch']\n",
    "            training = list(losses[:last_epoch,:2])\n",
    "            validation = list(losses[:last_epoch,2:])\n",
    "\n",
    "            best_test_loss = losses[:,2].min()\n",
    "\n",
    "        else:\n",
    "            model.apply(init_weights)\n",
    "            classifier.apply(init_weights)\n",
    "            best_test_loss = np.infty\n",
    "\n",
    "            training = []\n",
    "            validation=[]\n",
    "            last_epoch = 0\n",
    "            elapsed_time = np.zeros((N_EPOCHS,))\n",
    "\n",
    "\n",
    "        cross_entropy_loss = torch.nn.CrossEntropyLoss(reduction='sum', ignore_index=-100)\n",
    "        mse_loss = torch.nn.MSELoss(reduction='sum')\n",
    "\n",
    "\n",
    "        for e in range(last_epoch, N_EPOCHS):\n",
    "            start.record()\n",
    "            train_loss, train_class_loss = train(model, classifier, train_iterator, optimizer,\n",
    "                                               calculate_loss,cross_entropy_loss, clip=1, norm_p=None,\n",
    "                                                 class_fraction=frac)\n",
    "            val_loss, val_class_loss = evaluate(model,classifier, val_iterator,\n",
    "                                                 calculate_loss, cross_entropy_loss, norm_p=None)\n",
    "\n",
    "            end.record()\n",
    "\n",
    "            # Waits for everything to finish running\n",
    "            torch.cuda.synchronize()\n",
    "            elapsed_time[e] = start.elapsed_time(end) # milliseconds\n",
    "\n",
    "            train_loss /= N_train\n",
    "            train_class_loss /= N_train\n",
    "            val_loss /= N_val\n",
    "            val_class_loss /=N_val\n",
    "\n",
    "            training += [[train_loss,train_class_loss]]\n",
    "            validation += [[val_loss, val_class_loss]]\n",
    "            print(f'Epoch {e}, Train Loss: {train_loss:.2f}, Val Loss: {val_loss:.2f}, \\\n",
    "                  Time elapsed [s]: {elapsed_time[e]/1000:.2f}')\n",
    "\n",
    "\n",
    "\n",
    "            if e % 50 == 0 and e > 0:\n",
    "                optimizer.param_groups[0]['lr'] = optimizer.param_groups[0]['lr']/2\n",
    "\n",
    "            if best_test_loss > val_loss:\n",
    "                best_test_loss = val_loss\n",
    "                torch.save({'epoch': e,\n",
    "                            'model_state_dict': model.state_dict(),\n",
    "                            'optimizer_state_dict': optimizer.state_dict(),\n",
    "                            'classifier_state_dict': classifier.state_dict()\n",
    "                               },save_path_model%(part,frac, run))\n",
    "\n",
    "                validation_ = np.array(validation)\n",
    "                training_ = np.array(training)\n",
    "                # [:,0] = training loss, [:,1] = training classification losss\n",
    "                # [:,2] validation loss, [:,3] validation classification loss\n",
    "                losses = np.hstack((training_, validation_))\n",
    "                np.save(save_path_losses%(part,frac, run),losses)\n",
    "                np.save(save_path_elapsed_time%(part,frac, run),elapsed_time)\n",
    "\n",
    "\n",
    "\n",
    "        validation = np.array(validation)\n",
    "        training = np.array(training)\n",
    "        losses = np.hstack((training, validation))\n",
    "        np.save(save_path_losses%(part,frac, run), losses)\n",
    "        np.save(save_path_elapsed_time%(part,frac, run),elapsed_time)\n",
    "\n",
    "torch.cuda.empty_cache()"
   ]
  },
  {
   "cell_type": "code",
   "execution_count": 28,
   "metadata": {
    "id": "8NP3IZn-i2GI"
   },
   "outputs": [
    {
     "data": {
      "text/plain": [
       "[<matplotlib.lines.Line2D at 0x7fc8459fd290>]"
      ]
     },
     "execution_count": 28,
     "metadata": {},
     "output_type": "execute_result"
    },
    {
     "data": {
      "image/png": "[encoded data removed]",
      "text/plain": [
       "<Figure size 640x480 with 1 Axes>"
      ]
     },
     "metadata": {},
     "output_type": "display_data"
    }
   ],
   "source": [
    "plt.plot(elapsed_time/1000)"
   ]
  },
  {
   "cell_type": "code",
   "execution_count": 29,
   "metadata": {
    "id": "lbPVmxlLi6F-"
   },
   "outputs": [
    {
     "name": "stdout",
     "output_type": "stream",
     "text": [
      "1.354065\n",
      "6.633679058449262\n"
     ]
    }
   ],
   "source": [
    "print(elapsed_time.mean()/1000)\n",
    "print(elapsed_time.std()/1000)"
   ]
  },
  {
   "cell_type": "code",
   "execution_count": null,
   "metadata": {},
   "outputs": [],
   "source": []
  }
 ],
 "metadata": {
  "accelerator": "GPU",
  "colab": {
   "gpuType": "T4",
   "provenance": []
  },
  "kernelspec": {
   "display_name": "env",
   "language": "python",
   "name": "env"
  },
  "language_info": {
   "codemirror_mode": {
    "name": "ipython",
    "version": 3
   },
   "file_extension": ".py",
   "mimetype": "text/x-python",
   "name": "python",
   "nbconvert_exporter": "python",
   "pygments_lexer": "ipython3",
   "version": "3.11.4"
  }
 },
 "nbformat": 4,
 "nbformat_minor": 4
}
